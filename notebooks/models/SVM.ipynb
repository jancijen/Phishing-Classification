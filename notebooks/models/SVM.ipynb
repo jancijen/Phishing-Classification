{
 "cells": [
  {
   "cell_type": "code",
   "execution_count": 36,
   "metadata": {},
   "outputs": [],
   "source": [
    "# Retina quality plots\n",
    "%config InlineBackend.figure_format = 'retina'"
   ]
  },
  {
   "cell_type": "code",
   "execution_count": 37,
   "metadata": {},
   "outputs": [],
   "source": [
    "DATA_DIR = '../../data/reduced/small/'"
   ]
  },
  {
   "cell_type": "code",
   "execution_count": 38,
   "metadata": {},
   "outputs": [
    {
     "name": "stdout",
     "output_type": "stream",
     "text": [
      "<class 'pandas.core.frame.DataFrame'>\n",
      "RangeIndex: 35187 entries, 0 to 35186\n",
      "Data columns (total 3 columns):\n",
      " #   Column    Non-Null Count  Dtype  \n",
      "---  ------    --------------  -----  \n",
      " 0   0         35187 non-null  float64\n",
      " 1   1         35187 non-null  float64\n",
      " 2   phishing  35187 non-null  int64  \n",
      "dtypes: float64(2), int64(1)\n",
      "memory usage: 824.8 KB\n"
     ]
    },
    {
     "data": {
      "text/html": [
       "<div>\n",
       "<style scoped>\n",
       "    .dataframe tbody tr th:only-of-type {\n",
       "        vertical-align: middle;\n",
       "    }\n",
       "\n",
       "    .dataframe tbody tr th {\n",
       "        vertical-align: top;\n",
       "    }\n",
       "\n",
       "    .dataframe thead th {\n",
       "        text-align: right;\n",
       "    }\n",
       "</style>\n",
       "<table border=\"1\" class=\"dataframe\">\n",
       "  <thead>\n",
       "    <tr style=\"text-align: right;\">\n",
       "      <th></th>\n",
       "      <th>0</th>\n",
       "      <th>1</th>\n",
       "      <th>phishing</th>\n",
       "    </tr>\n",
       "  </thead>\n",
       "  <tbody>\n",
       "    <tr>\n",
       "      <th>0</th>\n",
       "      <td>228987.058114</td>\n",
       "      <td>-7577.447893</td>\n",
       "      <td>1</td>\n",
       "    </tr>\n",
       "    <tr>\n",
       "      <th>1</th>\n",
       "      <td>-18079.501237</td>\n",
       "      <td>-4591.866489</td>\n",
       "      <td>1</td>\n",
       "    </tr>\n",
       "    <tr>\n",
       "      <th>2</th>\n",
       "      <td>-7855.407037</td>\n",
       "      <td>-4726.854052</td>\n",
       "      <td>1</td>\n",
       "    </tr>\n",
       "    <tr>\n",
       "      <th>3</th>\n",
       "      <td>229855.757883</td>\n",
       "      <td>5730.655682</td>\n",
       "      <td>1</td>\n",
       "    </tr>\n",
       "    <tr>\n",
       "      <th>4</th>\n",
       "      <td>-19920.590656</td>\n",
       "      <td>-4432.011638</td>\n",
       "      <td>0</td>\n",
       "    </tr>\n",
       "  </tbody>\n",
       "</table>\n",
       "</div>"
      ],
      "text/plain": [
       "               0            1  phishing\n",
       "0  228987.058114 -7577.447893         1\n",
       "1  -18079.501237 -4591.866489         1\n",
       "2   -7855.407037 -4726.854052         1\n",
       "3  229855.757883  5730.655682         1\n",
       "4  -19920.590656 -4432.011638         0"
      ]
     },
     "execution_count": 38,
     "metadata": {},
     "output_type": "execute_result"
    }
   ],
   "source": [
    "import pandas as pd\n",
    "\n",
    "train_data = pd.read_csv(DATA_DIR + 'PCA_train.csv')\n",
    "\n",
    "train_data.info()\n",
    "train_data.head()"
   ]
  },
  {
   "cell_type": "code",
   "execution_count": 39,
   "metadata": {},
   "outputs": [
    {
     "name": "stdout",
     "output_type": "stream",
     "text": [
      "<class 'pandas.core.frame.DataFrame'>\n",
      "RangeIndex: 11729 entries, 0 to 11728\n",
      "Data columns (total 3 columns):\n",
      " #   Column    Non-Null Count  Dtype  \n",
      "---  ------    --------------  -----  \n",
      " 0   0         11729 non-null  float64\n",
      " 1   1         11729 non-null  float64\n",
      " 2   phishing  11729 non-null  int64  \n",
      "dtypes: float64(2), int64(1)\n",
      "memory usage: 275.0 KB\n"
     ]
    },
    {
     "data": {
      "text/html": [
       "<div>\n",
       "<style scoped>\n",
       "    .dataframe tbody tr th:only-of-type {\n",
       "        vertical-align: middle;\n",
       "    }\n",
       "\n",
       "    .dataframe tbody tr th {\n",
       "        vertical-align: top;\n",
       "    }\n",
       "\n",
       "    .dataframe thead th {\n",
       "        text-align: right;\n",
       "    }\n",
       "</style>\n",
       "<table border=\"1\" class=\"dataframe\">\n",
       "  <thead>\n",
       "    <tr style=\"text-align: right;\">\n",
       "      <th></th>\n",
       "      <th>0</th>\n",
       "      <th>1</th>\n",
       "      <th>phishing</th>\n",
       "    </tr>\n",
       "  </thead>\n",
       "  <tbody>\n",
       "    <tr>\n",
       "      <th>0</th>\n",
       "      <td>-19913.487308</td>\n",
       "      <td>-4573.678818</td>\n",
       "      <td>1</td>\n",
       "    </tr>\n",
       "    <tr>\n",
       "      <th>1</th>\n",
       "      <td>-18080.461643</td>\n",
       "      <td>-4663.846316</td>\n",
       "      <td>0</td>\n",
       "    </tr>\n",
       "    <tr>\n",
       "      <th>2</th>\n",
       "      <td>-19152.980778</td>\n",
       "      <td>-1755.291659</td>\n",
       "      <td>0</td>\n",
       "    </tr>\n",
       "    <tr>\n",
       "      <th>3</th>\n",
       "      <td>13510.492490</td>\n",
       "      <td>6797.767366</td>\n",
       "      <td>1</td>\n",
       "    </tr>\n",
       "    <tr>\n",
       "      <th>4</th>\n",
       "      <td>-4298.720730</td>\n",
       "      <td>-1475.949864</td>\n",
       "      <td>0</td>\n",
       "    </tr>\n",
       "  </tbody>\n",
       "</table>\n",
       "</div>"
      ],
      "text/plain": [
       "              0            1  phishing\n",
       "0 -19913.487308 -4573.678818         1\n",
       "1 -18080.461643 -4663.846316         0\n",
       "2 -19152.980778 -1755.291659         0\n",
       "3  13510.492490  6797.767366         1\n",
       "4  -4298.720730 -1475.949864         0"
      ]
     },
     "execution_count": 39,
     "metadata": {},
     "output_type": "execute_result"
    }
   ],
   "source": [
    "valid_data = pd.read_csv(DATA_DIR + 'PCA_valid.csv')\n",
    "\n",
    "valid_data.info()\n",
    "valid_data.head()"
   ]
  },
  {
   "cell_type": "code",
   "execution_count": 40,
   "metadata": {},
   "outputs": [
    {
     "name": "stdout",
     "output_type": "stream",
     "text": [
      "<class 'pandas.core.frame.DataFrame'>\n",
      "RangeIndex: 11729 entries, 0 to 11728\n",
      "Data columns (total 3 columns):\n",
      " #   Column    Non-Null Count  Dtype  \n",
      "---  ------    --------------  -----  \n",
      " 0   0         11729 non-null  float64\n",
      " 1   1         11729 non-null  float64\n",
      " 2   phishing  11729 non-null  int64  \n",
      "dtypes: float64(2), int64(1)\n",
      "memory usage: 275.0 KB\n"
     ]
    },
    {
     "data": {
      "text/html": [
       "<div>\n",
       "<style scoped>\n",
       "    .dataframe tbody tr th:only-of-type {\n",
       "        vertical-align: middle;\n",
       "    }\n",
       "\n",
       "    .dataframe tbody tr th {\n",
       "        vertical-align: top;\n",
       "    }\n",
       "\n",
       "    .dataframe thead th {\n",
       "        text-align: right;\n",
       "    }\n",
       "</style>\n",
       "<table border=\"1\" class=\"dataframe\">\n",
       "  <thead>\n",
       "    <tr style=\"text-align: right;\">\n",
       "      <th></th>\n",
       "      <th>0</th>\n",
       "      <th>1</th>\n",
       "      <th>phishing</th>\n",
       "    </tr>\n",
       "  </thead>\n",
       "  <tbody>\n",
       "    <tr>\n",
       "      <th>0</th>\n",
       "      <td>18815.156711</td>\n",
       "      <td>-1661.175732</td>\n",
       "      <td>1</td>\n",
       "    </tr>\n",
       "    <tr>\n",
       "      <th>1</th>\n",
       "      <td>-33252.125551</td>\n",
       "      <td>-4689.002127</td>\n",
       "      <td>1</td>\n",
       "    </tr>\n",
       "    <tr>\n",
       "      <th>2</th>\n",
       "      <td>-14168.852892</td>\n",
       "      <td>-2852.311369</td>\n",
       "      <td>0</td>\n",
       "    </tr>\n",
       "    <tr>\n",
       "      <th>3</th>\n",
       "      <td>-16619.548133</td>\n",
       "      <td>16682.891987</td>\n",
       "      <td>1</td>\n",
       "    </tr>\n",
       "    <tr>\n",
       "      <th>4</th>\n",
       "      <td>21832.273241</td>\n",
       "      <td>1944.771778</td>\n",
       "      <td>0</td>\n",
       "    </tr>\n",
       "  </tbody>\n",
       "</table>\n",
       "</div>"
      ],
      "text/plain": [
       "              0             1  phishing\n",
       "0  18815.156711  -1661.175732         1\n",
       "1 -33252.125551  -4689.002127         1\n",
       "2 -14168.852892  -2852.311369         0\n",
       "3 -16619.548133  16682.891987         1\n",
       "4  21832.273241   1944.771778         0"
      ]
     },
     "execution_count": 40,
     "metadata": {},
     "output_type": "execute_result"
    }
   ],
   "source": [
    "test_data = pd.read_csv(DATA_DIR + 'PCA_test.csv')\n",
    "\n",
    "test_data.info()\n",
    "test_data.head()"
   ]
  },
  {
   "cell_type": "code",
   "execution_count": 41,
   "metadata": {},
   "outputs": [],
   "source": [
    "TARGET_COL_NAME = 'phishing'"
   ]
  },
  {
   "cell_type": "code",
   "execution_count": 42,
   "metadata": {},
   "outputs": [],
   "source": [
    "X_train = train_data.drop(TARGET_COL_NAME, axis=1)\n",
    "y_train = train_data[TARGET_COL_NAME]"
   ]
  },
  {
   "cell_type": "code",
   "execution_count": 43,
   "metadata": {},
   "outputs": [
    {
     "data": {
      "text/plain": [
       "1    18388\n",
       "0    16799\n",
       "Name: phishing, dtype: int64"
      ]
     },
     "execution_count": 43,
     "metadata": {},
     "output_type": "execute_result"
    }
   ],
   "source": [
    "y_train.value_counts()"
   ]
  },
  {
   "cell_type": "code",
   "execution_count": 44,
   "metadata": {},
   "outputs": [],
   "source": [
    "X_valid = valid_data.drop(TARGET_COL_NAME, axis=1)\n",
    "y_valid = valid_data[TARGET_COL_NAME]"
   ]
  },
  {
   "cell_type": "code",
   "execution_count": 45,
   "metadata": {},
   "outputs": [
    {
     "data": {
      "text/plain": [
       "1    6129\n",
       "0    5600\n",
       "Name: phishing, dtype: int64"
      ]
     },
     "execution_count": 45,
     "metadata": {},
     "output_type": "execute_result"
    }
   ],
   "source": [
    "y_valid.value_counts()"
   ]
  },
  {
   "cell_type": "code",
   "execution_count": 46,
   "metadata": {},
   "outputs": [],
   "source": [
    "X_test = test_data.drop(TARGET_COL_NAME, axis=1)\n",
    "y_test = test_data[TARGET_COL_NAME]"
   ]
  },
  {
   "cell_type": "code",
   "execution_count": 47,
   "metadata": {},
   "outputs": [
    {
     "data": {
      "text/plain": [
       "1    6130\n",
       "0    5599\n",
       "Name: phishing, dtype: int64"
      ]
     },
     "execution_count": 47,
     "metadata": {},
     "output_type": "execute_result"
    }
   ],
   "source": [
    "y_test.value_counts()"
   ]
  },
  {
   "cell_type": "markdown",
   "metadata": {},
   "source": [
    "## Hyperparameter tuning"
   ]
  },
  {
   "cell_type": "code",
   "execution_count": 48,
   "metadata": {},
   "outputs": [
    {
     "name": "stdout",
     "output_type": "stream",
     "text": [
      "Validation data - Accuracy: 0.599, Balanced accuracy: 0.598, F1: 0.618, Precision: 0.616, Recall: 0.619\n",
      "--------------------\n"
     ]
    }
   ],
   "source": [
    "from sklearn import svm\n",
    "from sklearn.metrics import accuracy_score, balanced_accuracy_score, f1_score, precision_score, recall_score\n",
    "\n",
    "# Grid search over hyperparameters\n",
    "kernel = ['linear', 'poly', 'rbf', 'sigmoid', 'precomputed']\n",
    "clf = svm.SVC(gamma='scale')\n",
    "clf.fit(X_train, y_train)\n",
    "y_pred = clf.predict(X_valid)\n",
    "\n",
    "print('Validation data - Accuracy: {:.3f}, Balanced accuracy: {:.3f}, F1: {:.3f}, Precision: {:.3f}, Recall: {:.3f}'\n",
    "      .format(accuracy_score(y_valid, y_pred),\n",
    "              balanced_accuracy_score(y_valid, y_pred),\n",
    "              f1_score(y_valid, y_pred),\n",
    "              precision_score(y_valid, y_pred),\n",
    "              recall_score(y_valid, y_pred)))\n",
    "print('-' * 20)\n",
    "\n",
    "# for k in kernel:\n",
    "#     print('Kernel is {}'.format(k))\n",
    "\n",
    "#     clf = svm.SVC(kernel=k)\n",
    "#     clf.fit(X_train, y_train)\n",
    "\n",
    "#     y_pred = clf.predict(X_valid)\n",
    "\n",
    "#     print('Validation data - Accuracy: {:.3f}, Balanced accuracy: {:.3f}, F1: {:.3f}, Precision: {:.3f}, Recall: {:.3f}'\n",
    "#           .format(accuracy_score(y_valid, y_pred),\n",
    "#                   balanced_accuracy_score(y_valid, y_pred),\n",
    "#                   f1_score(y_valid, y_pred),\n",
    "#                   precision_score(y_valid, y_pred),\n",
    "#                   recall_score(y_valid, y_pred)))\n",
    "#     print('-' * 20)"
   ]
  },
  {
   "cell_type": "code",
   "execution_count": 49,
   "metadata": {},
   "outputs": [
    {
     "data": {
      "text/plain": [
       "['../../models/SVM_PCA_small.pkl']"
      ]
     },
     "execution_count": 49,
     "metadata": {},
     "output_type": "execute_result"
    }
   ],
   "source": [
    "from joblib import dump\n",
    "\n",
    "dump(clf, \"../../models/SVM_PCA_small.pkl\") "
   ]
  },
  {
   "cell_type": "code",
   "execution_count": 50,
   "metadata": {},
   "outputs": [],
   "source": [
    "from sklearn.metrics import matthews_corrcoef, roc_curve\n",
    "\n",
    "def fpr(y_true, y_pred, sample_weight=None):\n",
    "    return roc_curve(y_true, y_pred, sample_weight=sample_weight)[0][1]\n",
    "\n",
    "METRICS = [\n",
    "    ('F1', f1_score),\n",
    "    ('Accuracy', accuracy_score),\n",
    "    ('Balanced accuracy', balanced_accuracy_score),\n",
    "    ('MCC', matthews_corrcoef),\n",
    "    ('Precision', precision_score),\n",
    "    ('Recall', recall_score),\n",
    "    ('FPR', fpr)\n",
    "]"
   ]
  },
  {
   "cell_type": "code",
   "execution_count": 51,
   "metadata": {},
   "outputs": [],
   "source": [
    "y_pred = clf.predict(X_test)"
   ]
  },
  {
   "cell_type": "code",
   "execution_count": 52,
   "metadata": {},
   "outputs": [
    {
     "name": "stdout",
     "output_type": "stream",
     "text": [
      "Metric values:\n",
      "\n",
      "F1: 0.619\n",
      "Accuracy: 0.603\n",
      "Balanced accuracy: 0.602\n",
      "MCC: 0.204\n",
      "Precision: 0.621\n",
      "Recall: 0.618\n",
      "FPR: 0.414\n",
      "\n",
      "\n"
     ]
    },
    {
     "data": {
      "image/png": "[encoded data removed]",
      "text/plain": [
       "<Figure size 432x288 with 2 Axes>"
      ]
     },
     "metadata": {
      "image/png": {
       "height": 276,
       "width": 366
      }
     },
     "output_type": "display_data"
    }
   ],
   "source": [
    "from bin.evaluation.evaluation import evaluate_classifier\n",
    "\n",
    "evaluate_classifier(y_test, y_pred, y_pred, METRICS)"
   ]
  },
  {
   "cell_type": "code",
   "execution_count": null,
   "metadata": {},
   "outputs": [],
   "source": []
  },
  {
   "cell_type": "markdown",
   "metadata": {},
   "source": [
    "###### "
   ]
  }
 ],
 "metadata": {
  "kernelspec": {
   "display_name": "Python 3",
   "language": "python",
   "name": "python3"
  },
  "language_info": {
   "codemirror_mode": {
    "name": "ipython",
    "version": 3
   },
   "file_extension": ".py",
   "mimetype": "text/x-python",
   "name": "python",
   "nbconvert_exporter": "python",
   "pygments_lexer": "ipython3",
   "version": "3.8.5"
  }
 },
 "nbformat": 4,
 "nbformat_minor": 4
}
