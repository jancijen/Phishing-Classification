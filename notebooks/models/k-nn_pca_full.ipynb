{
 "cells": [
  {
   "cell_type": "markdown",
   "id": "241efbdd-f985-4bf4-b01c-13ef8277bbda",
   "metadata": {},
   "source": [
    "# k-NN classifier - Full PCA dataset"
   ]
  },
  {
   "cell_type": "code",
   "execution_count": 1,
   "id": "f727a37e-69a6-48c4-908b-9acfa7832f89",
   "metadata": {},
   "outputs": [],
   "source": [
    "# Retina quality plots\n",
    "%config InlineBackend.figure_format = 'retina'"
   ]
  },
  {
   "cell_type": "markdown",
   "id": "cc3e70ad-08b0-47d3-b88a-13240c87dd4a",
   "metadata": {},
   "source": [
    "## Load Data"
   ]
  },
  {
   "cell_type": "code",
   "execution_count": 2,
   "id": "daa6a478-451e-4d95-860e-09a1b90b9989",
   "metadata": {},
   "outputs": [],
   "source": [
    "DATA_DIR = '../../data/reduced/full/'"
   ]
  },
  {
   "cell_type": "code",
   "execution_count": 3,
   "id": "a885533f-ecbc-47c8-b61d-502212d0d630",
   "metadata": {},
   "outputs": [
    {
     "name": "stdout",
     "output_type": "stream",
     "text": [
      "<class 'pandas.core.frame.DataFrame'>\n",
      "RangeIndex: 53188 entries, 0 to 53187\n",
      "Data columns (total 3 columns):\n",
      " #   Column    Non-Null Count  Dtype  \n",
      "---  ------    --------------  -----  \n",
      " 0   0         53188 non-null  float64\n",
      " 1   1         53188 non-null  float64\n",
      " 2   phishing  53188 non-null  int64  \n",
      "dtypes: float64(2), int64(1)\n",
      "memory usage: 1.2 MB\n"
     ]
    },
    {
     "data": {
      "text/html": [
       "<div>\n",
       "<style scoped>\n",
       "    .dataframe tbody tr th:only-of-type {\n",
       "        vertical-align: middle;\n",
       "    }\n",
       "\n",
       "    .dataframe tbody tr th {\n",
       "        vertical-align: top;\n",
       "    }\n",
       "\n",
       "    .dataframe thead th {\n",
       "        text-align: right;\n",
       "    }\n",
       "</style>\n",
       "<table border=\"1\" class=\"dataframe\">\n",
       "  <thead>\n",
       "    <tr style=\"text-align: right;\">\n",
       "      <th></th>\n",
       "      <th>0</th>\n",
       "      <th>1</th>\n",
       "      <th>phishing</th>\n",
       "    </tr>\n",
       "  </thead>\n",
       "  <tbody>\n",
       "    <tr>\n",
       "      <th>0</th>\n",
       "      <td>4830.801961</td>\n",
       "      <td>-6330.299302</td>\n",
       "      <td>1</td>\n",
       "    </tr>\n",
       "    <tr>\n",
       "      <th>1</th>\n",
       "      <td>-14467.013254</td>\n",
       "      <td>15757.274788</td>\n",
       "      <td>0</td>\n",
       "    </tr>\n",
       "    <tr>\n",
       "      <th>2</th>\n",
       "      <td>-31170.196073</td>\n",
       "      <td>-5210.997729</td>\n",
       "      <td>0</td>\n",
       "    </tr>\n",
       "    <tr>\n",
       "      <th>3</th>\n",
       "      <td>-26445.554390</td>\n",
       "      <td>-2455.233558</td>\n",
       "      <td>1</td>\n",
       "    </tr>\n",
       "    <tr>\n",
       "      <th>4</th>\n",
       "      <td>-14570.950655</td>\n",
       "      <td>-1111.213349</td>\n",
       "      <td>0</td>\n",
       "    </tr>\n",
       "  </tbody>\n",
       "</table>\n",
       "</div>"
      ],
      "text/plain": [
       "              0             1  phishing\n",
       "0   4830.801961  -6330.299302         1\n",
       "1 -14467.013254  15757.274788         0\n",
       "2 -31170.196073  -5210.997729         0\n",
       "3 -26445.554390  -2455.233558         1\n",
       "4 -14570.950655  -1111.213349         0"
      ]
     },
     "execution_count": 3,
     "metadata": {},
     "output_type": "execute_result"
    }
   ],
   "source": [
    "import pandas as pd\n",
    "\n",
    "train_data = pd.read_csv(DATA_DIR + 'PCA_train.csv')\n",
    "\n",
    "train_data.info()\n",
    "train_data.head()"
   ]
  },
  {
   "cell_type": "code",
   "execution_count": 4,
   "id": "37458791-2fa5-4462-9171-ed81c2f8bd96",
   "metadata": {},
   "outputs": [
    {
     "name": "stdout",
     "output_type": "stream",
     "text": [
      "<class 'pandas.core.frame.DataFrame'>\n",
      "RangeIndex: 17729 entries, 0 to 17728\n",
      "Data columns (total 3 columns):\n",
      " #   Column    Non-Null Count  Dtype  \n",
      "---  ------    --------------  -----  \n",
      " 0   0         17729 non-null  float64\n",
      " 1   1         17729 non-null  float64\n",
      " 2   phishing  17729 non-null  int64  \n",
      "dtypes: float64(2), int64(1)\n",
      "memory usage: 415.6 KB\n"
     ]
    },
    {
     "data": {
      "text/html": [
       "<div>\n",
       "<style scoped>\n",
       "    .dataframe tbody tr th:only-of-type {\n",
       "        vertical-align: middle;\n",
       "    }\n",
       "\n",
       "    .dataframe tbody tr th {\n",
       "        vertical-align: top;\n",
       "    }\n",
       "\n",
       "    .dataframe thead th {\n",
       "        text-align: right;\n",
       "    }\n",
       "</style>\n",
       "<table border=\"1\" class=\"dataframe\">\n",
       "  <thead>\n",
       "    <tr style=\"text-align: right;\">\n",
       "      <th></th>\n",
       "      <th>0</th>\n",
       "      <th>1</th>\n",
       "      <th>phishing</th>\n",
       "    </tr>\n",
       "  </thead>\n",
       "  <tbody>\n",
       "    <tr>\n",
       "      <th>0</th>\n",
       "      <td>5415.186815</td>\n",
       "      <td>8258.201001</td>\n",
       "      <td>1</td>\n",
       "    </tr>\n",
       "    <tr>\n",
       "      <th>1</th>\n",
       "      <td>15674.611993</td>\n",
       "      <td>7932.382171</td>\n",
       "      <td>1</td>\n",
       "    </tr>\n",
       "    <tr>\n",
       "      <th>2</th>\n",
       "      <td>-17073.070175</td>\n",
       "      <td>-4104.591626</td>\n",
       "      <td>0</td>\n",
       "    </tr>\n",
       "    <tr>\n",
       "      <th>3</th>\n",
       "      <td>-31149.738016</td>\n",
       "      <td>-5158.790821</td>\n",
       "      <td>0</td>\n",
       "    </tr>\n",
       "    <tr>\n",
       "      <th>4</th>\n",
       "      <td>-18442.641510</td>\n",
       "      <td>8602.424313</td>\n",
       "      <td>0</td>\n",
       "    </tr>\n",
       "  </tbody>\n",
       "</table>\n",
       "</div>"
      ],
      "text/plain": [
       "              0            1  phishing\n",
       "0   5415.186815  8258.201001         1\n",
       "1  15674.611993  7932.382171         1\n",
       "2 -17073.070175 -4104.591626         0\n",
       "3 -31149.738016 -5158.790821         0\n",
       "4 -18442.641510  8602.424313         0"
      ]
     },
     "execution_count": 4,
     "metadata": {},
     "output_type": "execute_result"
    }
   ],
   "source": [
    "valid_data = pd.read_csv(DATA_DIR + 'PCA_valid.csv')\n",
    "\n",
    "valid_data.info()\n",
    "valid_data.head()"
   ]
  },
  {
   "cell_type": "code",
   "execution_count": 5,
   "id": "32de3e25-6dfa-4ae7-aeb9-6ee610090b66",
   "metadata": {},
   "outputs": [
    {
     "name": "stdout",
     "output_type": "stream",
     "text": [
      "<class 'pandas.core.frame.DataFrame'>\n",
      "RangeIndex: 17730 entries, 0 to 17729\n",
      "Data columns (total 3 columns):\n",
      " #   Column    Non-Null Count  Dtype  \n",
      "---  ------    --------------  -----  \n",
      " 0   0         17730 non-null  float64\n",
      " 1   1         17730 non-null  float64\n",
      " 2   phishing  17730 non-null  int64  \n",
      "dtypes: float64(2), int64(1)\n",
      "memory usage: 415.7 KB\n"
     ]
    },
    {
     "data": {
      "text/html": [
       "<div>\n",
       "<style scoped>\n",
       "    .dataframe tbody tr th:only-of-type {\n",
       "        vertical-align: middle;\n",
       "    }\n",
       "\n",
       "    .dataframe tbody tr th {\n",
       "        vertical-align: top;\n",
       "    }\n",
       "\n",
       "    .dataframe thead th {\n",
       "        text-align: right;\n",
       "    }\n",
       "</style>\n",
       "<table border=\"1\" class=\"dataframe\">\n",
       "  <thead>\n",
       "    <tr style=\"text-align: right;\">\n",
       "      <th></th>\n",
       "      <th>0</th>\n",
       "      <th>1</th>\n",
       "      <th>phishing</th>\n",
       "    </tr>\n",
       "  </thead>\n",
       "  <tbody>\n",
       "    <tr>\n",
       "      <th>0</th>\n",
       "      <td>-15993.023610</td>\n",
       "      <td>-5551.742121</td>\n",
       "      <td>1</td>\n",
       "    </tr>\n",
       "    <tr>\n",
       "      <th>1</th>\n",
       "      <td>30811.232069</td>\n",
       "      <td>-6153.150604</td>\n",
       "      <td>0</td>\n",
       "    </tr>\n",
       "    <tr>\n",
       "      <th>2</th>\n",
       "      <td>-4491.923092</td>\n",
       "      <td>4680.105707</td>\n",
       "      <td>1</td>\n",
       "    </tr>\n",
       "    <tr>\n",
       "      <th>3</th>\n",
       "      <td>-12066.791484</td>\n",
       "      <td>15720.718702</td>\n",
       "      <td>0</td>\n",
       "    </tr>\n",
       "    <tr>\n",
       "      <th>4</th>\n",
       "      <td>5497.471347</td>\n",
       "      <td>-5012.329154</td>\n",
       "      <td>0</td>\n",
       "    </tr>\n",
       "  </tbody>\n",
       "</table>\n",
       "</div>"
      ],
      "text/plain": [
       "              0             1  phishing\n",
       "0 -15993.023610  -5551.742121         1\n",
       "1  30811.232069  -6153.150604         0\n",
       "2  -4491.923092   4680.105707         1\n",
       "3 -12066.791484  15720.718702         0\n",
       "4   5497.471347  -5012.329154         0"
      ]
     },
     "execution_count": 5,
     "metadata": {},
     "output_type": "execute_result"
    }
   ],
   "source": [
    "test_data = pd.read_csv(DATA_DIR + 'PCA_test.csv')\n",
    "\n",
    "test_data.info()\n",
    "test_data.head()"
   ]
  },
  {
   "cell_type": "markdown",
   "id": "85ab6a49-f64a-49e8-bfd6-5ccc9e75714a",
   "metadata": {},
   "source": [
    "## Get X and y data"
   ]
  },
  {
   "cell_type": "code",
   "execution_count": 6,
   "id": "468a7006-38b5-4369-9527-19343f0e37ce",
   "metadata": {},
   "outputs": [],
   "source": [
    "TARGET_COL_NAME = 'phishing'"
   ]
  },
  {
   "cell_type": "code",
   "execution_count": 7,
   "id": "a551d7e4-c853-4175-865d-f3f2f78ffc8a",
   "metadata": {},
   "outputs": [],
   "source": [
    "X_train = train_data.drop(TARGET_COL_NAME, axis=1)\n",
    "y_train = train_data[TARGET_COL_NAME]"
   ]
  },
  {
   "cell_type": "code",
   "execution_count": 8,
   "id": "2892b34c-f51b-465f-b824-fb61ae2bda4f",
   "metadata": {},
   "outputs": [
    {
     "data": {
      "text/plain": [
       "0    34800\n",
       "1    18388\n",
       "Name: phishing, dtype: int64"
      ]
     },
     "execution_count": 8,
     "metadata": {},
     "output_type": "execute_result"
    }
   ],
   "source": [
    "y_train.value_counts()"
   ]
  },
  {
   "cell_type": "code",
   "execution_count": 9,
   "id": "33fcef95-a681-4fb7-a915-24c0de313611",
   "metadata": {},
   "outputs": [],
   "source": [
    "X_valid = valid_data.drop(TARGET_COL_NAME, axis=1)\n",
    "y_valid = valid_data[TARGET_COL_NAME]"
   ]
  },
  {
   "cell_type": "code",
   "execution_count": 10,
   "id": "a64ab9ed-3e12-411e-943b-f6611a01490c",
   "metadata": {},
   "outputs": [
    {
     "data": {
      "text/plain": [
       "0    11600\n",
       "1     6129\n",
       "Name: phishing, dtype: int64"
      ]
     },
     "execution_count": 10,
     "metadata": {},
     "output_type": "execute_result"
    }
   ],
   "source": [
    "y_valid.value_counts()"
   ]
  },
  {
   "cell_type": "code",
   "execution_count": 11,
   "id": "f1de8498-ef48-4322-ad84-d7414e5b3a4f",
   "metadata": {},
   "outputs": [],
   "source": [
    "X_test = test_data.drop(TARGET_COL_NAME, axis=1)\n",
    "y_test = test_data[TARGET_COL_NAME]"
   ]
  },
  {
   "cell_type": "code",
   "execution_count": 12,
   "id": "456e1057-4b77-4890-8bd3-2bc1bb1771ee",
   "metadata": {},
   "outputs": [
    {
     "data": {
      "text/plain": [
       "0    11600\n",
       "1     6130\n",
       "Name: phishing, dtype: int64"
      ]
     },
     "execution_count": 12,
     "metadata": {},
     "output_type": "execute_result"
    }
   ],
   "source": [
    "y_test.value_counts()"
   ]
  },
  {
   "cell_type": "markdown",
   "id": "9113e4ba-191b-44ba-8163-a67ad66d1779",
   "metadata": {},
   "source": [
    "## Hyperparameter tuning"
   ]
  },
  {
   "cell_type": "code",
   "execution_count": 14,
   "id": "f2bb1995-1938-4f1b-bf52-a6994562ef8d",
   "metadata": {},
   "outputs": [
    {
     "name": "stdout",
     "output_type": "stream",
     "text": [
      "Neighbors count: 1\n",
      "Validation data - Accuracy: 0.820, Balanced accuracy: 0.804, F1: 0.742, Precision: 0.736, Recall: 0.749\n",
      "--------------------\n",
      "Neighbors count: 3\n",
      "Validation data - Accuracy: 0.817, Balanced accuracy: 0.797, F1: 0.735, Precision: 0.737, Recall: 0.732\n",
      "--------------------\n",
      "Neighbors count: 5\n",
      "Validation data - Accuracy: 0.809, Balanced accuracy: 0.787, F1: 0.721, Precision: 0.728, Recall: 0.714\n",
      "--------------------\n",
      "Neighbors count: 10\n",
      "Validation data - Accuracy: 0.802, Balanced accuracy: 0.765, F1: 0.693, Precision: 0.746, Recall: 0.647\n",
      "--------------------\n",
      "Neighbors count: 20\n",
      "Validation data - Accuracy: 0.791, Balanced accuracy: 0.754, F1: 0.677, Precision: 0.725, Recall: 0.635\n",
      "--------------------\n",
      "Neighbors count: 30\n",
      "Validation data - Accuracy: 0.781, Balanced accuracy: 0.739, F1: 0.656, Precision: 0.717, Recall: 0.605\n",
      "--------------------\n"
     ]
    }
   ],
   "source": [
    "from sklearn.neighbors import KNeighborsClassifier\n",
    "from sklearn.metrics import accuracy_score, balanced_accuracy_score, f1_score, precision_score, recall_score\n",
    "\n",
    "# Grid search over hyperparameters\n",
    "neighbors_cnts = [1, 3, 5, 10, 20, 30]\n",
    "\n",
    "for neighbors_cnt in neighbors_cnts:\n",
    "    print('Neighbors count: {}'.format(neighbors_cnt))\n",
    "\n",
    "    clf = KNeighborsClassifier(n_neighbors=neighbors_cnt, n_jobs=-1)\n",
    "    clf.fit(X_train, y_train)\n",
    "\n",
    "    y_pred = clf.predict(X_valid)\n",
    "\n",
    "    print('Validation data - Accuracy: {:.3f}, Balanced accuracy: {:.3f}, F1: {:.3f}, Precision: {:.3f}, Recall: {:.3f}'\n",
    "          .format(accuracy_score(y_valid, y_pred),\n",
    "                  balanced_accuracy_score(y_valid, y_pred),\n",
    "                  f1_score(y_valid, y_pred),\n",
    "                  precision_score(y_valid, y_pred),\n",
    "                  recall_score(y_valid, y_pred)))\n",
    "    print('-' * 20)"
   ]
  },
  {
   "cell_type": "markdown",
   "id": "ee1ac0ac-5d6b-41ce-9c37-32a4ba1151eb",
   "metadata": {},
   "source": [
    "## Retrain the best model - training + validation dataset"
   ]
  },
  {
   "cell_type": "code",
   "execution_count": 15,
   "id": "754e48c2-f2c4-4e62-b4aa-89059bb75b12",
   "metadata": {},
   "outputs": [],
   "source": [
    "best_neighbors_cnt = 1"
   ]
  },
  {
   "cell_type": "code",
   "execution_count": 16,
   "id": "a35acd15-86da-486a-b219-f3381aa394af",
   "metadata": {},
   "outputs": [
    {
     "data": {
      "text/plain": [
       "(70917, 2)"
      ]
     },
     "execution_count": 16,
     "metadata": {},
     "output_type": "execute_result"
    }
   ],
   "source": [
    "X_train_and_valid = pd.concat([X_train, X_valid])\n",
    "X_train_and_valid.shape"
   ]
  },
  {
   "cell_type": "code",
   "execution_count": 17,
   "id": "bc2b0296-9337-4e25-be19-8e653d3cf769",
   "metadata": {},
   "outputs": [
    {
     "data": {
      "text/plain": [
       "(70917,)"
      ]
     },
     "execution_count": 17,
     "metadata": {},
     "output_type": "execute_result"
    }
   ],
   "source": [
    "y_train_and_valid = pd.concat([y_train, y_valid])\n",
    "y_train_and_valid.shape"
   ]
  },
  {
   "cell_type": "code",
   "execution_count": 18,
   "id": "28a83623-fb31-448d-a2e0-be37da0f5c06",
   "metadata": {},
   "outputs": [
    {
     "data": {
      "text/plain": [
       "KNeighborsClassifier(n_jobs=-1, n_neighbors=1)"
      ]
     },
     "execution_count": 18,
     "metadata": {},
     "output_type": "execute_result"
    }
   ],
   "source": [
    "best_clf = KNeighborsClassifier(n_neighbors=best_neighbors_cnt, n_jobs=-1)\n",
    "\n",
    "best_clf.fit(X_train_and_valid, y_train_and_valid)"
   ]
  },
  {
   "cell_type": "markdown",
   "id": "a107bea9-5109-47d1-9678-8d16895c694d",
   "metadata": {},
   "source": [
    "## Save trained model"
   ]
  },
  {
   "cell_type": "code",
   "execution_count": 20,
   "id": "7e61a522-da87-4aec-a0ab-a08f950b94b2",
   "metadata": {},
   "outputs": [
    {
     "data": {
      "text/plain": [
       "['../../models/knn_pca_full_model.pkl']"
      ]
     },
     "execution_count": 20,
     "metadata": {},
     "output_type": "execute_result"
    }
   ],
   "source": [
    "from joblib import dump\n",
    "\n",
    "dump(best_clf, \"../../models/knn_pca_full_model.pkl\") "
   ]
  },
  {
   "cell_type": "markdown",
   "id": "a4ed3854-46c3-4de2-b7cf-8670c3ed87c5",
   "metadata": {},
   "source": [
    "## Evaluate on test data"
   ]
  },
  {
   "cell_type": "code",
   "execution_count": 13,
   "id": "02abe880-8887-4d26-bfc1-9dd25dfc07c2",
   "metadata": {},
   "outputs": [],
   "source": [
    "from joblib import load\n",
    "\n",
    "best_clf = load(\"../../models/knn_pca_full_model.pkl\") "
   ]
  },
  {
   "cell_type": "code",
   "execution_count": 14,
   "id": "9ac46735-b73b-4557-8c93-6699353e9fc2",
   "metadata": {},
   "outputs": [],
   "source": [
    "from sklearn.metrics import matthews_corrcoef, roc_curve\n",
    "from sklearn.metrics import accuracy_score, balanced_accuracy_score, f1_score, precision_score, recall_score\n",
    "\n",
    "def fpr(y_true, y_pred, sample_weight=None):\n",
    "    return roc_curve(y_true, y_pred, sample_weight=sample_weight)[0][1]\n",
    "\n",
    "METRICS = [\n",
    "    ('F1', f1_score),\n",
    "    ('Accuracy', accuracy_score),\n",
    "    ('Balanced accuracy', balanced_accuracy_score),\n",
    "    ('MCC', matthews_corrcoef),\n",
    "    ('Precision', precision_score),\n",
    "    ('Recall', recall_score),\n",
    "    ('FPR', fpr)\n",
    "]"
   ]
  },
  {
   "cell_type": "code",
   "execution_count": 15,
   "id": "9a189a54-22b8-48d0-ac1e-11e628deb5ac",
   "metadata": {},
   "outputs": [],
   "source": [
    "y_pred = best_clf.predict(X_test)"
   ]
  },
  {
   "cell_type": "code",
   "execution_count": 16,
   "id": "4910c6cc-5d1c-4370-8b12-4301a762efc2",
   "metadata": {},
   "outputs": [
    {
     "name": "stdout",
     "output_type": "stream",
     "text": [
      "Metric values:\n",
      "\n",
      "F1: 0.756\n",
      "Accuracy: 0.831\n",
      "Balanced accuracy: 0.814\n",
      "MCC: 0.627\n",
      "Precision: 0.753\n",
      "Recall: 0.760\n",
      "FPR: 0.132\n",
      "\n",
      "\n"
     ]
    },
    {
     "data": {
      "image/png": "[encoded data removed]",
      "text/plain": [
       "<Figure size 432x288 with 2 Axes>"
      ]
     },
     "metadata": {
      "image/png": {
       "height": 276,
       "width": 360
      }
     },
     "output_type": "display_data"
    }
   ],
   "source": [
    "from bin.evaluation.evaluation import evaluate_classifier\n",
    "\n",
    "evaluate_classifier(y_test, y_pred, y_pred, METRICS)"
   ]
  }
 ],
 "metadata": {
  "kernelspec": {
   "display_name": "Python 3 (ipykernel)",
   "language": "python",
   "name": "python3"
  },
  "language_info": {
   "codemirror_mode": {
    "name": "ipython",
    "version": 3
   },
   "file_extension": ".py",
   "mimetype": "text/x-python",
   "name": "python",
   "nbconvert_exporter": "python",
   "pygments_lexer": "ipython3",
   "version": "3.9.7"
  }
 },
 "nbformat": 4,
 "nbformat_minor": 5
}
