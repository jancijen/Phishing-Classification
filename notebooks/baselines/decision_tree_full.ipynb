{
 "cells": [
  {
   "cell_type": "markdown",
   "id": "241efbdd-f985-4bf4-b01c-13ef8277bbda",
   "metadata": {},
   "source": [
    "# Decision Tree classifier - Full dataset"
   ]
  },
  {
   "cell_type": "code",
   "execution_count": 1,
   "id": "f727a37e-69a6-48c4-908b-9acfa7832f89",
   "metadata": {},
   "outputs": [],
   "source": [
    "# Retina quality plots\n",
    "%config InlineBackend.figure_format = 'retina'"
   ]
  },
  {
   "cell_type": "markdown",
   "id": "cc3e70ad-08b0-47d3-b88a-13240c87dd4a",
   "metadata": {},
   "source": [
    "## Load Data"
   ]
  },
  {
   "cell_type": "code",
   "execution_count": 2,
   "id": "daa6a478-451e-4d95-860e-09a1b90b9989",
   "metadata": {},
   "outputs": [],
   "source": [
    "DATA_DIR = '../../data/raw/full/'"
   ]
  },
  {
   "cell_type": "code",
   "execution_count": 3,
   "id": "a885533f-ecbc-47c8-b61d-502212d0d630",
   "metadata": {},
   "outputs": [
    {
     "name": "stdout",
     "output_type": "stream",
     "text": [
      "<class 'pandas.core.frame.DataFrame'>\n",
      "RangeIndex: 53188 entries, 0 to 53187\n",
      "Columns: 112 entries, qty_dot_url to phishing\n",
      "dtypes: float64(1), int64(111)\n",
      "memory usage: 45.4 MB\n"
     ]
    },
    {
     "data": {
      "text/html": [
       "<div>\n",
       "<style scoped>\n",
       "    .dataframe tbody tr th:only-of-type {\n",
       "        vertical-align: middle;\n",
       "    }\n",
       "\n",
       "    .dataframe tbody tr th {\n",
       "        vertical-align: top;\n",
       "    }\n",
       "\n",
       "    .dataframe thead th {\n",
       "        text-align: right;\n",
       "    }\n",
       "</style>\n",
       "<table border=\"1\" class=\"dataframe\">\n",
       "  <thead>\n",
       "    <tr style=\"text-align: right;\">\n",
       "      <th></th>\n",
       "      <th>qty_dot_url</th>\n",
       "      <th>qty_hyphen_url</th>\n",
       "      <th>qty_underline_url</th>\n",
       "      <th>qty_slash_url</th>\n",
       "      <th>qty_questionmark_url</th>\n",
       "      <th>qty_equal_url</th>\n",
       "      <th>qty_at_url</th>\n",
       "      <th>qty_and_url</th>\n",
       "      <th>qty_exclamation_url</th>\n",
       "      <th>qty_space_url</th>\n",
       "      <th>...</th>\n",
       "      <th>qty_ip_resolved</th>\n",
       "      <th>qty_nameservers</th>\n",
       "      <th>qty_mx_servers</th>\n",
       "      <th>ttl_hostname</th>\n",
       "      <th>tls_ssl_certificate</th>\n",
       "      <th>qty_redirects</th>\n",
       "      <th>url_google_index</th>\n",
       "      <th>domain_google_index</th>\n",
       "      <th>url_shortened</th>\n",
       "      <th>phishing</th>\n",
       "    </tr>\n",
       "  </thead>\n",
       "  <tbody>\n",
       "    <tr>\n",
       "      <th>0</th>\n",
       "      <td>8</td>\n",
       "      <td>1</td>\n",
       "      <td>1</td>\n",
       "      <td>5</td>\n",
       "      <td>0</td>\n",
       "      <td>0</td>\n",
       "      <td>0</td>\n",
       "      <td>0</td>\n",
       "      <td>0</td>\n",
       "      <td>0</td>\n",
       "      <td>...</td>\n",
       "      <td>1</td>\n",
       "      <td>4</td>\n",
       "      <td>0</td>\n",
       "      <td>11</td>\n",
       "      <td>1</td>\n",
       "      <td>0</td>\n",
       "      <td>0</td>\n",
       "      <td>0</td>\n",
       "      <td>0</td>\n",
       "      <td>1</td>\n",
       "    </tr>\n",
       "    <tr>\n",
       "      <th>1</th>\n",
       "      <td>2</td>\n",
       "      <td>0</td>\n",
       "      <td>0</td>\n",
       "      <td>0</td>\n",
       "      <td>0</td>\n",
       "      <td>0</td>\n",
       "      <td>0</td>\n",
       "      <td>0</td>\n",
       "      <td>0</td>\n",
       "      <td>0</td>\n",
       "      <td>...</td>\n",
       "      <td>1</td>\n",
       "      <td>1</td>\n",
       "      <td>1</td>\n",
       "      <td>21592</td>\n",
       "      <td>0</td>\n",
       "      <td>0</td>\n",
       "      <td>0</td>\n",
       "      <td>0</td>\n",
       "      <td>0</td>\n",
       "      <td>0</td>\n",
       "    </tr>\n",
       "    <tr>\n",
       "      <th>2</th>\n",
       "      <td>2</td>\n",
       "      <td>0</td>\n",
       "      <td>0</td>\n",
       "      <td>1</td>\n",
       "      <td>0</td>\n",
       "      <td>0</td>\n",
       "      <td>0</td>\n",
       "      <td>0</td>\n",
       "      <td>0</td>\n",
       "      <td>0</td>\n",
       "      <td>...</td>\n",
       "      <td>4</td>\n",
       "      <td>4</td>\n",
       "      <td>2</td>\n",
       "      <td>194</td>\n",
       "      <td>1</td>\n",
       "      <td>1</td>\n",
       "      <td>0</td>\n",
       "      <td>0</td>\n",
       "      <td>0</td>\n",
       "      <td>0</td>\n",
       "    </tr>\n",
       "    <tr>\n",
       "      <th>3</th>\n",
       "      <td>3</td>\n",
       "      <td>0</td>\n",
       "      <td>0</td>\n",
       "      <td>6</td>\n",
       "      <td>0</td>\n",
       "      <td>0</td>\n",
       "      <td>0</td>\n",
       "      <td>0</td>\n",
       "      <td>0</td>\n",
       "      <td>0</td>\n",
       "      <td>...</td>\n",
       "      <td>1</td>\n",
       "      <td>2</td>\n",
       "      <td>1</td>\n",
       "      <td>3165</td>\n",
       "      <td>0</td>\n",
       "      <td>0</td>\n",
       "      <td>0</td>\n",
       "      <td>0</td>\n",
       "      <td>0</td>\n",
       "      <td>1</td>\n",
       "    </tr>\n",
       "    <tr>\n",
       "      <th>4</th>\n",
       "      <td>3</td>\n",
       "      <td>0</td>\n",
       "      <td>0</td>\n",
       "      <td>0</td>\n",
       "      <td>0</td>\n",
       "      <td>0</td>\n",
       "      <td>0</td>\n",
       "      <td>0</td>\n",
       "      <td>0</td>\n",
       "      <td>0</td>\n",
       "      <td>...</td>\n",
       "      <td>1</td>\n",
       "      <td>2</td>\n",
       "      <td>5</td>\n",
       "      <td>4914</td>\n",
       "      <td>0</td>\n",
       "      <td>-1</td>\n",
       "      <td>0</td>\n",
       "      <td>0</td>\n",
       "      <td>0</td>\n",
       "      <td>0</td>\n",
       "    </tr>\n",
       "  </tbody>\n",
       "</table>\n",
       "<p>5 rows × 112 columns</p>\n",
       "</div>"
      ],
      "text/plain": [
       "   qty_dot_url  qty_hyphen_url  qty_underline_url  qty_slash_url  \\\n",
       "0            8               1                  1              5   \n",
       "1            2               0                  0              0   \n",
       "2            2               0                  0              1   \n",
       "3            3               0                  0              6   \n",
       "4            3               0                  0              0   \n",
       "\n",
       "   qty_questionmark_url  qty_equal_url  qty_at_url  qty_and_url  \\\n",
       "0                     0              0           0            0   \n",
       "1                     0              0           0            0   \n",
       "2                     0              0           0            0   \n",
       "3                     0              0           0            0   \n",
       "4                     0              0           0            0   \n",
       "\n",
       "   qty_exclamation_url  qty_space_url  ...  qty_ip_resolved  qty_nameservers  \\\n",
       "0                    0              0  ...                1                4   \n",
       "1                    0              0  ...                1                1   \n",
       "2                    0              0  ...                4                4   \n",
       "3                    0              0  ...                1                2   \n",
       "4                    0              0  ...                1                2   \n",
       "\n",
       "   qty_mx_servers  ttl_hostname  tls_ssl_certificate  qty_redirects  \\\n",
       "0               0            11                    1              0   \n",
       "1               1         21592                    0              0   \n",
       "2               2           194                    1              1   \n",
       "3               1          3165                    0              0   \n",
       "4               5          4914                    0             -1   \n",
       "\n",
       "   url_google_index  domain_google_index  url_shortened  phishing  \n",
       "0                 0                    0              0         1  \n",
       "1                 0                    0              0         0  \n",
       "2                 0                    0              0         0  \n",
       "3                 0                    0              0         1  \n",
       "4                 0                    0              0         0  \n",
       "\n",
       "[5 rows x 112 columns]"
      ]
     },
     "execution_count": 3,
     "metadata": {},
     "output_type": "execute_result"
    }
   ],
   "source": [
    "import pandas as pd\n",
    "\n",
    "train_data = pd.read_csv(DATA_DIR + 'train.csv')\n",
    "\n",
    "train_data.info()\n",
    "train_data.head()"
   ]
  },
  {
   "cell_type": "code",
   "execution_count": 4,
   "id": "37458791-2fa5-4462-9171-ed81c2f8bd96",
   "metadata": {},
   "outputs": [
    {
     "name": "stdout",
     "output_type": "stream",
     "text": [
      "<class 'pandas.core.frame.DataFrame'>\n",
      "RangeIndex: 17729 entries, 0 to 17728\n",
      "Columns: 112 entries, qty_dot_url to phishing\n",
      "dtypes: float64(1), int64(111)\n",
      "memory usage: 15.1 MB\n"
     ]
    },
    {
     "data": {
      "text/html": [
       "<div>\n",
       "<style scoped>\n",
       "    .dataframe tbody tr th:only-of-type {\n",
       "        vertical-align: middle;\n",
       "    }\n",
       "\n",
       "    .dataframe tbody tr th {\n",
       "        vertical-align: top;\n",
       "    }\n",
       "\n",
       "    .dataframe thead th {\n",
       "        text-align: right;\n",
       "    }\n",
       "</style>\n",
       "<table border=\"1\" class=\"dataframe\">\n",
       "  <thead>\n",
       "    <tr style=\"text-align: right;\">\n",
       "      <th></th>\n",
       "      <th>qty_dot_url</th>\n",
       "      <th>qty_hyphen_url</th>\n",
       "      <th>qty_underline_url</th>\n",
       "      <th>qty_slash_url</th>\n",
       "      <th>qty_questionmark_url</th>\n",
       "      <th>qty_equal_url</th>\n",
       "      <th>qty_at_url</th>\n",
       "      <th>qty_and_url</th>\n",
       "      <th>qty_exclamation_url</th>\n",
       "      <th>qty_space_url</th>\n",
       "      <th>...</th>\n",
       "      <th>qty_ip_resolved</th>\n",
       "      <th>qty_nameservers</th>\n",
       "      <th>qty_mx_servers</th>\n",
       "      <th>ttl_hostname</th>\n",
       "      <th>tls_ssl_certificate</th>\n",
       "      <th>qty_redirects</th>\n",
       "      <th>url_google_index</th>\n",
       "      <th>domain_google_index</th>\n",
       "      <th>url_shortened</th>\n",
       "      <th>phishing</th>\n",
       "    </tr>\n",
       "  </thead>\n",
       "  <tbody>\n",
       "    <tr>\n",
       "      <th>0</th>\n",
       "      <td>1</td>\n",
       "      <td>0</td>\n",
       "      <td>0</td>\n",
       "      <td>3</td>\n",
       "      <td>0</td>\n",
       "      <td>0</td>\n",
       "      <td>0</td>\n",
       "      <td>0</td>\n",
       "      <td>0</td>\n",
       "      <td>0</td>\n",
       "      <td>...</td>\n",
       "      <td>1</td>\n",
       "      <td>2</td>\n",
       "      <td>1</td>\n",
       "      <td>14391</td>\n",
       "      <td>0</td>\n",
       "      <td>0</td>\n",
       "      <td>0</td>\n",
       "      <td>0</td>\n",
       "      <td>0</td>\n",
       "      <td>1</td>\n",
       "    </tr>\n",
       "    <tr>\n",
       "      <th>1</th>\n",
       "      <td>1</td>\n",
       "      <td>1</td>\n",
       "      <td>0</td>\n",
       "      <td>2</td>\n",
       "      <td>0</td>\n",
       "      <td>0</td>\n",
       "      <td>0</td>\n",
       "      <td>0</td>\n",
       "      <td>0</td>\n",
       "      <td>0</td>\n",
       "      <td>...</td>\n",
       "      <td>1</td>\n",
       "      <td>2</td>\n",
       "      <td>1</td>\n",
       "      <td>14383</td>\n",
       "      <td>1</td>\n",
       "      <td>1</td>\n",
       "      <td>0</td>\n",
       "      <td>0</td>\n",
       "      <td>0</td>\n",
       "      <td>1</td>\n",
       "    </tr>\n",
       "    <tr>\n",
       "      <th>2</th>\n",
       "      <td>2</td>\n",
       "      <td>0</td>\n",
       "      <td>0</td>\n",
       "      <td>0</td>\n",
       "      <td>0</td>\n",
       "      <td>0</td>\n",
       "      <td>0</td>\n",
       "      <td>0</td>\n",
       "      <td>0</td>\n",
       "      <td>0</td>\n",
       "      <td>...</td>\n",
       "      <td>1</td>\n",
       "      <td>3</td>\n",
       "      <td>0</td>\n",
       "      <td>1798</td>\n",
       "      <td>1</td>\n",
       "      <td>2</td>\n",
       "      <td>0</td>\n",
       "      <td>0</td>\n",
       "      <td>0</td>\n",
       "      <td>0</td>\n",
       "    </tr>\n",
       "    <tr>\n",
       "      <th>3</th>\n",
       "      <td>2</td>\n",
       "      <td>0</td>\n",
       "      <td>0</td>\n",
       "      <td>0</td>\n",
       "      <td>0</td>\n",
       "      <td>0</td>\n",
       "      <td>0</td>\n",
       "      <td>0</td>\n",
       "      <td>0</td>\n",
       "      <td>0</td>\n",
       "      <td>...</td>\n",
       "      <td>1</td>\n",
       "      <td>2</td>\n",
       "      <td>5</td>\n",
       "      <td>593</td>\n",
       "      <td>0</td>\n",
       "      <td>0</td>\n",
       "      <td>0</td>\n",
       "      <td>0</td>\n",
       "      <td>0</td>\n",
       "      <td>0</td>\n",
       "    </tr>\n",
       "    <tr>\n",
       "      <th>4</th>\n",
       "      <td>2</td>\n",
       "      <td>0</td>\n",
       "      <td>0</td>\n",
       "      <td>0</td>\n",
       "      <td>0</td>\n",
       "      <td>0</td>\n",
       "      <td>0</td>\n",
       "      <td>0</td>\n",
       "      <td>0</td>\n",
       "      <td>0</td>\n",
       "      <td>...</td>\n",
       "      <td>1</td>\n",
       "      <td>2</td>\n",
       "      <td>2</td>\n",
       "      <td>14392</td>\n",
       "      <td>1</td>\n",
       "      <td>-1</td>\n",
       "      <td>0</td>\n",
       "      <td>0</td>\n",
       "      <td>0</td>\n",
       "      <td>0</td>\n",
       "    </tr>\n",
       "  </tbody>\n",
       "</table>\n",
       "<p>5 rows × 112 columns</p>\n",
       "</div>"
      ],
      "text/plain": [
       "   qty_dot_url  qty_hyphen_url  qty_underline_url  qty_slash_url  \\\n",
       "0            1               0                  0              3   \n",
       "1            1               1                  0              2   \n",
       "2            2               0                  0              0   \n",
       "3            2               0                  0              0   \n",
       "4            2               0                  0              0   \n",
       "\n",
       "   qty_questionmark_url  qty_equal_url  qty_at_url  qty_and_url  \\\n",
       "0                     0              0           0            0   \n",
       "1                     0              0           0            0   \n",
       "2                     0              0           0            0   \n",
       "3                     0              0           0            0   \n",
       "4                     0              0           0            0   \n",
       "\n",
       "   qty_exclamation_url  qty_space_url  ...  qty_ip_resolved  qty_nameservers  \\\n",
       "0                    0              0  ...                1                2   \n",
       "1                    0              0  ...                1                2   \n",
       "2                    0              0  ...                1                3   \n",
       "3                    0              0  ...                1                2   \n",
       "4                    0              0  ...                1                2   \n",
       "\n",
       "   qty_mx_servers  ttl_hostname  tls_ssl_certificate  qty_redirects  \\\n",
       "0               1         14391                    0              0   \n",
       "1               1         14383                    1              1   \n",
       "2               0          1798                    1              2   \n",
       "3               5           593                    0              0   \n",
       "4               2         14392                    1             -1   \n",
       "\n",
       "   url_google_index  domain_google_index  url_shortened  phishing  \n",
       "0                 0                    0              0         1  \n",
       "1                 0                    0              0         1  \n",
       "2                 0                    0              0         0  \n",
       "3                 0                    0              0         0  \n",
       "4                 0                    0              0         0  \n",
       "\n",
       "[5 rows x 112 columns]"
      ]
     },
     "execution_count": 4,
     "metadata": {},
     "output_type": "execute_result"
    }
   ],
   "source": [
    "valid_data = pd.read_csv(DATA_DIR + 'valid.csv')\n",
    "\n",
    "valid_data.info()\n",
    "valid_data.head()"
   ]
  },
  {
   "cell_type": "code",
   "execution_count": 5,
   "id": "32de3e25-6dfa-4ae7-aeb9-6ee610090b66",
   "metadata": {},
   "outputs": [
    {
     "name": "stdout",
     "output_type": "stream",
     "text": [
      "<class 'pandas.core.frame.DataFrame'>\n",
      "RangeIndex: 17730 entries, 0 to 17729\n",
      "Columns: 112 entries, qty_dot_url to phishing\n",
      "dtypes: float64(1), int64(111)\n",
      "memory usage: 15.2 MB\n"
     ]
    },
    {
     "data": {
      "text/html": [
       "<div>\n",
       "<style scoped>\n",
       "    .dataframe tbody tr th:only-of-type {\n",
       "        vertical-align: middle;\n",
       "    }\n",
       "\n",
       "    .dataframe tbody tr th {\n",
       "        vertical-align: top;\n",
       "    }\n",
       "\n",
       "    .dataframe thead th {\n",
       "        text-align: right;\n",
       "    }\n",
       "</style>\n",
       "<table border=\"1\" class=\"dataframe\">\n",
       "  <thead>\n",
       "    <tr style=\"text-align: right;\">\n",
       "      <th></th>\n",
       "      <th>qty_dot_url</th>\n",
       "      <th>qty_hyphen_url</th>\n",
       "      <th>qty_underline_url</th>\n",
       "      <th>qty_slash_url</th>\n",
       "      <th>qty_questionmark_url</th>\n",
       "      <th>qty_equal_url</th>\n",
       "      <th>qty_at_url</th>\n",
       "      <th>qty_and_url</th>\n",
       "      <th>qty_exclamation_url</th>\n",
       "      <th>qty_space_url</th>\n",
       "      <th>...</th>\n",
       "      <th>qty_ip_resolved</th>\n",
       "      <th>qty_nameservers</th>\n",
       "      <th>qty_mx_servers</th>\n",
       "      <th>ttl_hostname</th>\n",
       "      <th>tls_ssl_certificate</th>\n",
       "      <th>qty_redirects</th>\n",
       "      <th>url_google_index</th>\n",
       "      <th>domain_google_index</th>\n",
       "      <th>url_shortened</th>\n",
       "      <th>phishing</th>\n",
       "    </tr>\n",
       "  </thead>\n",
       "  <tbody>\n",
       "    <tr>\n",
       "      <th>0</th>\n",
       "      <td>1</td>\n",
       "      <td>0</td>\n",
       "      <td>0</td>\n",
       "      <td>1</td>\n",
       "      <td>0</td>\n",
       "      <td>0</td>\n",
       "      <td>0</td>\n",
       "      <td>0</td>\n",
       "      <td>0</td>\n",
       "      <td>0</td>\n",
       "      <td>...</td>\n",
       "      <td>1</td>\n",
       "      <td>4</td>\n",
       "      <td>0</td>\n",
       "      <td>292</td>\n",
       "      <td>1</td>\n",
       "      <td>1</td>\n",
       "      <td>0</td>\n",
       "      <td>0</td>\n",
       "      <td>1</td>\n",
       "      <td>1</td>\n",
       "    </tr>\n",
       "    <tr>\n",
       "      <th>1</th>\n",
       "      <td>2</td>\n",
       "      <td>0</td>\n",
       "      <td>0</td>\n",
       "      <td>0</td>\n",
       "      <td>0</td>\n",
       "      <td>0</td>\n",
       "      <td>0</td>\n",
       "      <td>0</td>\n",
       "      <td>0</td>\n",
       "      <td>0</td>\n",
       "      <td>...</td>\n",
       "      <td>1</td>\n",
       "      <td>2</td>\n",
       "      <td>1</td>\n",
       "      <td>598</td>\n",
       "      <td>0</td>\n",
       "      <td>0</td>\n",
       "      <td>0</td>\n",
       "      <td>0</td>\n",
       "      <td>0</td>\n",
       "      <td>0</td>\n",
       "    </tr>\n",
       "    <tr>\n",
       "      <th>2</th>\n",
       "      <td>2</td>\n",
       "      <td>0</td>\n",
       "      <td>0</td>\n",
       "      <td>5</td>\n",
       "      <td>0</td>\n",
       "      <td>0</td>\n",
       "      <td>0</td>\n",
       "      <td>0</td>\n",
       "      <td>0</td>\n",
       "      <td>0</td>\n",
       "      <td>...</td>\n",
       "      <td>1</td>\n",
       "      <td>2</td>\n",
       "      <td>5</td>\n",
       "      <td>10792</td>\n",
       "      <td>1</td>\n",
       "      <td>0</td>\n",
       "      <td>0</td>\n",
       "      <td>0</td>\n",
       "      <td>0</td>\n",
       "      <td>1</td>\n",
       "    </tr>\n",
       "    <tr>\n",
       "      <th>3</th>\n",
       "      <td>2</td>\n",
       "      <td>0</td>\n",
       "      <td>0</td>\n",
       "      <td>0</td>\n",
       "      <td>0</td>\n",
       "      <td>0</td>\n",
       "      <td>0</td>\n",
       "      <td>0</td>\n",
       "      <td>0</td>\n",
       "      <td>0</td>\n",
       "      <td>...</td>\n",
       "      <td>1</td>\n",
       "      <td>2</td>\n",
       "      <td>1</td>\n",
       "      <td>21599</td>\n",
       "      <td>0</td>\n",
       "      <td>0</td>\n",
       "      <td>0</td>\n",
       "      <td>0</td>\n",
       "      <td>0</td>\n",
       "      <td>0</td>\n",
       "    </tr>\n",
       "    <tr>\n",
       "      <th>4</th>\n",
       "      <td>2</td>\n",
       "      <td>0</td>\n",
       "      <td>0</td>\n",
       "      <td>0</td>\n",
       "      <td>0</td>\n",
       "      <td>0</td>\n",
       "      <td>0</td>\n",
       "      <td>0</td>\n",
       "      <td>0</td>\n",
       "      <td>0</td>\n",
       "      <td>...</td>\n",
       "      <td>1</td>\n",
       "      <td>2</td>\n",
       "      <td>1</td>\n",
       "      <td>1198</td>\n",
       "      <td>0</td>\n",
       "      <td>0</td>\n",
       "      <td>0</td>\n",
       "      <td>0</td>\n",
       "      <td>0</td>\n",
       "      <td>0</td>\n",
       "    </tr>\n",
       "  </tbody>\n",
       "</table>\n",
       "<p>5 rows × 112 columns</p>\n",
       "</div>"
      ],
      "text/plain": [
       "   qty_dot_url  qty_hyphen_url  qty_underline_url  qty_slash_url  \\\n",
       "0            1               0                  0              1   \n",
       "1            2               0                  0              0   \n",
       "2            2               0                  0              5   \n",
       "3            2               0                  0              0   \n",
       "4            2               0                  0              0   \n",
       "\n",
       "   qty_questionmark_url  qty_equal_url  qty_at_url  qty_and_url  \\\n",
       "0                     0              0           0            0   \n",
       "1                     0              0           0            0   \n",
       "2                     0              0           0            0   \n",
       "3                     0              0           0            0   \n",
       "4                     0              0           0            0   \n",
       "\n",
       "   qty_exclamation_url  qty_space_url  ...  qty_ip_resolved  qty_nameservers  \\\n",
       "0                    0              0  ...                1                4   \n",
       "1                    0              0  ...                1                2   \n",
       "2                    0              0  ...                1                2   \n",
       "3                    0              0  ...                1                2   \n",
       "4                    0              0  ...                1                2   \n",
       "\n",
       "   qty_mx_servers  ttl_hostname  tls_ssl_certificate  qty_redirects  \\\n",
       "0               0           292                    1              1   \n",
       "1               1           598                    0              0   \n",
       "2               5         10792                    1              0   \n",
       "3               1         21599                    0              0   \n",
       "4               1          1198                    0              0   \n",
       "\n",
       "   url_google_index  domain_google_index  url_shortened  phishing  \n",
       "0                 0                    0              1         1  \n",
       "1                 0                    0              0         0  \n",
       "2                 0                    0              0         1  \n",
       "3                 0                    0              0         0  \n",
       "4                 0                    0              0         0  \n",
       "\n",
       "[5 rows x 112 columns]"
      ]
     },
     "execution_count": 5,
     "metadata": {},
     "output_type": "execute_result"
    }
   ],
   "source": [
    "test_data = pd.read_csv(DATA_DIR + 'test.csv')\n",
    "\n",
    "test_data.info()\n",
    "test_data.head()"
   ]
  },
  {
   "cell_type": "markdown",
   "id": "85ab6a49-f64a-49e8-bfd6-5ccc9e75714a",
   "metadata": {},
   "source": [
    "## Get X and y data"
   ]
  },
  {
   "cell_type": "code",
   "execution_count": 6,
   "id": "468a7006-38b5-4369-9527-19343f0e37ce",
   "metadata": {},
   "outputs": [],
   "source": [
    "TARGET_COL_NAME = 'phishing'"
   ]
  },
  {
   "cell_type": "code",
   "execution_count": 7,
   "id": "a551d7e4-c853-4175-865d-f3f2f78ffc8a",
   "metadata": {},
   "outputs": [],
   "source": [
    "X_train = train_data.drop(TARGET_COL_NAME, axis=1)\n",
    "y_train = train_data[TARGET_COL_NAME]"
   ]
  },
  {
   "cell_type": "code",
   "execution_count": 8,
   "id": "2892b34c-f51b-465f-b824-fb61ae2bda4f",
   "metadata": {},
   "outputs": [
    {
     "data": {
      "text/plain": [
       "0    34800\n",
       "1    18388\n",
       "Name: phishing, dtype: int64"
      ]
     },
     "execution_count": 8,
     "metadata": {},
     "output_type": "execute_result"
    }
   ],
   "source": [
    "y_train.value_counts()"
   ]
  },
  {
   "cell_type": "code",
   "execution_count": 9,
   "id": "33fcef95-a681-4fb7-a915-24c0de313611",
   "metadata": {},
   "outputs": [],
   "source": [
    "X_valid = valid_data.drop(TARGET_COL_NAME, axis=1)\n",
    "y_valid = valid_data[TARGET_COL_NAME]"
   ]
  },
  {
   "cell_type": "code",
   "execution_count": 10,
   "id": "a64ab9ed-3e12-411e-943b-f6611a01490c",
   "metadata": {},
   "outputs": [
    {
     "data": {
      "text/plain": [
       "0    11600\n",
       "1     6129\n",
       "Name: phishing, dtype: int64"
      ]
     },
     "execution_count": 10,
     "metadata": {},
     "output_type": "execute_result"
    }
   ],
   "source": [
    "y_valid.value_counts()"
   ]
  },
  {
   "cell_type": "code",
   "execution_count": 11,
   "id": "f1de8498-ef48-4322-ad84-d7414e5b3a4f",
   "metadata": {},
   "outputs": [],
   "source": [
    "X_test = test_data.drop(TARGET_COL_NAME, axis=1)\n",
    "y_test = test_data[TARGET_COL_NAME]"
   ]
  },
  {
   "cell_type": "code",
   "execution_count": 12,
   "id": "456e1057-4b77-4890-8bd3-2bc1bb1771ee",
   "metadata": {},
   "outputs": [
    {
     "data": {
      "text/plain": [
       "0    11600\n",
       "1     6130\n",
       "Name: phishing, dtype: int64"
      ]
     },
     "execution_count": 12,
     "metadata": {},
     "output_type": "execute_result"
    }
   ],
   "source": [
    "y_test.value_counts()"
   ]
  },
  {
   "cell_type": "markdown",
   "id": "9113e4ba-191b-44ba-8163-a67ad66d1779",
   "metadata": {},
   "source": [
    "## Hyperparameter tuning"
   ]
  },
  {
   "cell_type": "code",
   "execution_count": 13,
   "id": "b164fe86-4abc-4f8e-bafc-06719a5ebe2a",
   "metadata": {},
   "outputs": [],
   "source": [
    "RANDOM_STATE = 42"
   ]
  },
  {
   "cell_type": "code",
   "execution_count": 14,
   "id": "f2bb1995-1938-4f1b-bf52-a6994562ef8d",
   "metadata": {},
   "outputs": [
    {
     "name": "stdout",
     "output_type": "stream",
     "text": [
      "Criterion: entropy, Max depth: 5\n",
      "Validation data - Accuracy: 0.923, Balanced accuracy: 0.922, F1: 0.892, Precision: 0.866, Recall: 0.919\n",
      "--------------------\n",
      "Criterion: entropy, Max depth: 10\n",
      "Validation data - Accuracy: 0.946, Balanced accuracy: 0.947, F1: 0.924, Precision: 0.899, Recall: 0.950\n",
      "--------------------\n",
      "Criterion: entropy, Max depth: 20\n",
      "Validation data - Accuracy: 0.950, Balanced accuracy: 0.945, F1: 0.928, Precision: 0.926, Recall: 0.930\n",
      "--------------------\n",
      "Criterion: entropy, Max depth: 30\n",
      "Validation data - Accuracy: 0.950, Balanced accuracy: 0.944, F1: 0.927, Precision: 0.928, Recall: 0.927\n",
      "--------------------\n",
      "Criterion: entropy, Max depth: 40\n",
      "Validation data - Accuracy: 0.950, Balanced accuracy: 0.945, F1: 0.928, Precision: 0.928, Recall: 0.927\n",
      "--------------------\n",
      "Criterion: entropy, Max depth: 50\n",
      "Validation data - Accuracy: 0.950, Balanced accuracy: 0.945, F1: 0.928, Precision: 0.928, Recall: 0.927\n",
      "--------------------\n",
      "Criterion: entropy, Max depth: 60\n",
      "Validation data - Accuracy: 0.950, Balanced accuracy: 0.945, F1: 0.928, Precision: 0.928, Recall: 0.927\n",
      "--------------------\n",
      "Criterion: entropy, Max depth: 70\n",
      "Validation data - Accuracy: 0.950, Balanced accuracy: 0.945, F1: 0.928, Precision: 0.928, Recall: 0.927\n",
      "--------------------\n",
      "Criterion: entropy, Max depth: 80\n",
      "Validation data - Accuracy: 0.950, Balanced accuracy: 0.945, F1: 0.928, Precision: 0.928, Recall: 0.927\n",
      "--------------------\n",
      "Criterion: gini, Max depth: 5\n",
      "Validation data - Accuracy: 0.921, Balanced accuracy: 0.916, F1: 0.888, Precision: 0.879, Recall: 0.897\n",
      "--------------------\n",
      "Criterion: gini, Max depth: 10\n",
      "Validation data - Accuracy: 0.948, Balanced accuracy: 0.945, F1: 0.926, Precision: 0.918, Recall: 0.934\n",
      "--------------------\n",
      "Criterion: gini, Max depth: 20\n",
      "Validation data - Accuracy: 0.948, Balanced accuracy: 0.942, F1: 0.925, Precision: 0.927, Recall: 0.923\n",
      "--------------------\n",
      "Criterion: gini, Max depth: 30\n",
      "Validation data - Accuracy: 0.947, Balanced accuracy: 0.941, F1: 0.923, Precision: 0.924, Recall: 0.922\n",
      "--------------------\n",
      "Criterion: gini, Max depth: 40\n",
      "Validation data - Accuracy: 0.947, Balanced accuracy: 0.941, F1: 0.923, Precision: 0.924, Recall: 0.922\n",
      "--------------------\n",
      "Criterion: gini, Max depth: 50\n",
      "Validation data - Accuracy: 0.947, Balanced accuracy: 0.941, F1: 0.923, Precision: 0.924, Recall: 0.922\n",
      "--------------------\n",
      "Criterion: gini, Max depth: 60\n",
      "Validation data - Accuracy: 0.947, Balanced accuracy: 0.941, F1: 0.923, Precision: 0.924, Recall: 0.922\n",
      "--------------------\n",
      "Criterion: gini, Max depth: 70\n",
      "Validation data - Accuracy: 0.947, Balanced accuracy: 0.941, F1: 0.923, Precision: 0.924, Recall: 0.922\n",
      "--------------------\n",
      "Criterion: gini, Max depth: 80\n",
      "Validation data - Accuracy: 0.947, Balanced accuracy: 0.941, F1: 0.923, Precision: 0.924, Recall: 0.922\n",
      "--------------------\n"
     ]
    }
   ],
   "source": [
    "from sklearn.tree import DecisionTreeClassifier\n",
    "from sklearn.metrics import accuracy_score, balanced_accuracy_score, f1_score, precision_score, recall_score\n",
    "\n",
    "# Grid search over hyperparameters\n",
    "criterions = ['entropy', 'gini']\n",
    "max_depths = [5, 10, 20, 30, 40, 50, 60, 70, 80]\n",
    "\n",
    "for criterion in criterions:\n",
    "    for max_depth in max_depths:\n",
    "        print('Criterion: {}, Max depth: {}'.format(criterion, max_depth))\n",
    "\n",
    "        clf = DecisionTreeClassifier(max_depth=max_depth, criterion=criterion, random_state=RANDOM_STATE)\n",
    "        clf.fit(X_train, y_train)\n",
    "\n",
    "        y_pred = clf.predict(X_valid)\n",
    "\n",
    "        print('Validation data - Accuracy: {:.3f}, Balanced accuracy: {:.3f}, F1: {:.3f}, Precision: {:.3f}, Recall: {:.3f}'\n",
    "              .format(accuracy_score(y_valid, y_pred),\n",
    "                      balanced_accuracy_score(y_valid, y_pred),\n",
    "                      f1_score(y_valid, y_pred),\n",
    "                      precision_score(y_valid, y_pred),\n",
    "                      recall_score(y_valid, y_pred)))\n",
    "        print('-' * 20)"
   ]
  },
  {
   "cell_type": "markdown",
   "id": "ee1ac0ac-5d6b-41ce-9c37-32a4ba1151eb",
   "metadata": {},
   "source": [
    "## Retrain the best model - training + validation dataset"
   ]
  },
  {
   "cell_type": "code",
   "execution_count": 15,
   "id": "754e48c2-f2c4-4e62-b4aa-89059bb75b12",
   "metadata": {},
   "outputs": [],
   "source": [
    "best_criterion = 'entropy'\n",
    "best_max_depth = 20"
   ]
  },
  {
   "cell_type": "code",
   "execution_count": 16,
   "id": "a35acd15-86da-486a-b219-f3381aa394af",
   "metadata": {},
   "outputs": [
    {
     "data": {
      "text/plain": [
       "(70917, 111)"
      ]
     },
     "execution_count": 16,
     "metadata": {},
     "output_type": "execute_result"
    }
   ],
   "source": [
    "X_train_and_valid = pd.concat([X_train, X_valid])\n",
    "X_train_and_valid.shape"
   ]
  },
  {
   "cell_type": "code",
   "execution_count": 17,
   "id": "bc2b0296-9337-4e25-be19-8e653d3cf769",
   "metadata": {},
   "outputs": [
    {
     "data": {
      "text/plain": [
       "(70917,)"
      ]
     },
     "execution_count": 17,
     "metadata": {},
     "output_type": "execute_result"
    }
   ],
   "source": [
    "y_train_and_valid = pd.concat([y_train, y_valid])\n",
    "y_train_and_valid.shape"
   ]
  },
  {
   "cell_type": "code",
   "execution_count": 18,
   "id": "28a83623-fb31-448d-a2e0-be37da0f5c06",
   "metadata": {},
   "outputs": [
    {
     "data": {
      "text/plain": [
       "DecisionTreeClassifier(criterion='entropy', max_depth=20, random_state=42)"
      ]
     },
     "execution_count": 18,
     "metadata": {},
     "output_type": "execute_result"
    }
   ],
   "source": [
    "best_clf = DecisionTreeClassifier(max_depth=best_max_depth, criterion=best_criterion, random_state=RANDOM_STATE)\n",
    "\n",
    "best_clf.fit(X_train_and_valid, y_train_and_valid)"
   ]
  },
  {
   "cell_type": "markdown",
   "id": "a107bea9-5109-47d1-9678-8d16895c694d",
   "metadata": {},
   "source": [
    "## Save trained model"
   ]
  },
  {
   "cell_type": "code",
   "execution_count": 19,
   "id": "7e61a522-da87-4aec-a0ab-a08f950b94b2",
   "metadata": {},
   "outputs": [
    {
     "data": {
      "text/plain": [
       "['../../models/decision_tree_full_model.pkl']"
      ]
     },
     "execution_count": 19,
     "metadata": {},
     "output_type": "execute_result"
    }
   ],
   "source": [
    "from joblib import dump\n",
    "\n",
    "dump(best_clf, \"../../models/decision_tree_full_model.pkl\") "
   ]
  },
  {
   "cell_type": "markdown",
   "id": "a4ed3854-46c3-4de2-b7cf-8670c3ed87c5",
   "metadata": {},
   "source": [
    "## Evaluate on test data"
   ]
  },
  {
   "cell_type": "code",
   "execution_count": 20,
   "id": "9ac46735-b73b-4557-8c93-6699353e9fc2",
   "metadata": {},
   "outputs": [],
   "source": [
    "from sklearn.metrics import matthews_corrcoef, roc_curve\n",
    "\n",
    "def fpr(y_true, y_pred, sample_weight=None):\n",
    "    return roc_curve(y_true, y_pred, sample_weight=sample_weight)[0][1]\n",
    "\n",
    "METRICS = [\n",
    "    ('F1', f1_score),\n",
    "    ('Accuracy', accuracy_score),\n",
    "    ('Balanced accuracy', balanced_accuracy_score),\n",
    "    ('MCC', matthews_corrcoef),\n",
    "    ('Precision', precision_score),\n",
    "    ('Recall', recall_score),\n",
    "    ('FPR', fpr)\n",
    "]"
   ]
  },
  {
   "cell_type": "code",
   "execution_count": 21,
   "id": "9a189a54-22b8-48d0-ac1e-11e628deb5ac",
   "metadata": {},
   "outputs": [],
   "source": [
    "y_pred = best_clf.predict(X_test)"
   ]
  },
  {
   "cell_type": "code",
   "execution_count": 22,
   "id": "4910c6cc-5d1c-4370-8b12-4301a762efc2",
   "metadata": {},
   "outputs": [
    {
     "name": "stdout",
     "output_type": "stream",
     "text": [
      "Metric values:\n",
      "\n",
      "F1: 0.932\n",
      "Accuracy: 0.953\n",
      "Balanced accuracy: 0.948\n",
      "MCC: 0.897\n",
      "Precision: 0.936\n",
      "Recall: 0.929\n",
      "FPR: 0.034\n",
      "\n",
      "\n"
     ]
    },
    {
     "data": {
      "image/png": "[encoded data removed]",
      "text/plain": [
       "<Figure size 432x288 with 2 Axes>"
      ]
     },
     "metadata": {
      "image/png": {
       "height": 276,
       "width": 374
      }
     },
     "output_type": "display_data"
    }
   ],
   "source": [
    "from bin.evaluation.evaluation import evaluate_classifier\n",
    "\n",
    "evaluate_classifier(y_test, y_pred, y_pred, METRICS)"
   ]
  },
  {
   "cell_type": "markdown",
   "id": "2ab5f4a9-33fa-42c4-99ea-049d4c0a860a",
   "metadata": {},
   "source": [
    "## Model analysis"
   ]
  },
  {
   "cell_type": "code",
   "execution_count": 34,
   "id": "cce1c0e4-c31c-44f6-827e-e50953ec4463",
   "metadata": {},
   "outputs": [],
   "source": [
    "from joblib import load\n",
    "\n",
    "best_clf = load(\"../../models/decision_tree_full_model.pkl\")"
   ]
  },
  {
   "cell_type": "code",
   "execution_count": 35,
   "id": "d37a5eb0-433d-4f09-a220-6ae5a4fe0da4",
   "metadata": {},
   "outputs": [],
   "source": [
    "TOP_N_FEATURES = 3"
   ]
  },
  {
   "cell_type": "code",
   "execution_count": 36,
   "id": "691baa00-a09b-4b0c-a70c-269212689920",
   "metadata": {},
   "outputs": [
    {
     "data": {
      "text/plain": [
       "[('qty_dollar_file', 0.5156625779293622),\n",
       " ('time_domain_activation', 0.11714874168343789),\n",
       " ('directory_length', 0.07592130270013908),\n",
       " ('ttl_hostname', 0.035713773564612035),\n",
       " ('time_response', 0.03477454303528279),\n",
       " ('asn_ip', 0.02802155826754861),\n",
       " ('length_url', 0.024428914908638577),\n",
       " ('qty_dot_domain', 0.024249024917767707),\n",
       " ('domain_length', 0.015377106869909455),\n",
       " ('time_domain_expiration', 0.014885722311937646),\n",
       " ('qty_nameservers', 0.01130324532481553),\n",
       " ('qty_slash_url', 0.011014324694057396),\n",
       " ('qty_mx_servers', 0.010295662130096314),\n",
       " ('qty_dot_url', 0.009987045946321585),\n",
       " ('qty_vowels_domain', 0.009867481953297681),\n",
       " ('qty_hyphen_directory', 0.008975988357293387),\n",
       " ('qty_hyphen_url', 0.006867312368054378),\n",
       " ('file_length', 0.0066521917361931455),\n",
       " ('qty_redirects', 0.005446989004950229),\n",
       " ('qty_ip_resolved', 0.00504491416455815),\n",
       " ('tls_ssl_certificate', 0.004492075650281819),\n",
       " ('domain_spf', 0.004393248033584176),\n",
       " ('qty_questionmark_params', 0.003157712533391048),\n",
       " ('qty_slash_directory', 0.0022007969513275914),\n",
       " ('qty_equal_url', 0.0018383615141810417),\n",
       " ('qty_underline_url', 0.0014212258762270993),\n",
       " ('qty_dot_directory', 0.0011701151758832888),\n",
       " ('qty_underline_directory', 0.0008334811760690731),\n",
       " ('url_shortened', 0.0007749063016737165),\n",
       " ('qty_hyphen_file', 0.0007672041018310533),\n",
       " ('qty_hyphen_domain', 0.0007458371594064603),\n",
       " ('qty_tld_url', 0.0006756011072238977),\n",
       " ('qty_underline_file', 0.0006034358859127058),\n",
       " ('params_length', 0.0005928030554087871),\n",
       " ('qty_plus_params', 0.0005749690683335369),\n",
       " ('qty_dot_file', 0.000517298899628022),\n",
       " ('qty_asterisk_params', 0.0004455480840570521),\n",
       " ('qty_percent_file', 0.00042443527728794794),\n",
       " ('qty_comma_file', 0.00033457775876111244),\n",
       " ('qty_dollar_params', 0.0003319807068479557),\n",
       " ('qty_dot_params', 0.0002466064647576526),\n",
       " ('qty_underline_params', 0.0002417786454811462),\n",
       " ('qty_slash_params', 0.00021771403692201464),\n",
       " ('qty_hashtag_params', 0.0002023110003260638),\n",
       " ('domain_in_ip', 0.00019196067530003459),\n",
       " ('qty_params', 0.0001306834059841275),\n",
       " ('qty_percent_url', 0.00011592921110174427),\n",
       " ('qty_at_url', 0.0001038338470287723),\n",
       " ('qty_comma_params', 9.935926212703173e-05),\n",
       " ('qty_tilde_params', 8.39988114686981e-05),\n",
       " ('qty_percent_params', 8.029775668882874e-05),\n",
       " ('tld_present_params', 7.401115676630161e-05),\n",
       " ('qty_tilde_url', 6.848810745789313e-05),\n",
       " ('url_google_index', 6.340569012299069e-05),\n",
       " ('qty_at_params', 6.123625125062573e-05),\n",
       " ('qty_equal_params', 4.217474581242273e-05),\n",
       " ('qty_exclamation_params', 4.217474581242273e-05),\n",
       " ('qty_questionmark_url', 0.0),\n",
       " ('qty_and_url', 0.0),\n",
       " ('qty_exclamation_url', 0.0),\n",
       " ('qty_space_url', 0.0),\n",
       " ('qty_comma_url', 0.0),\n",
       " ('qty_plus_url', 0.0),\n",
       " ('qty_asterisk_url', 0.0),\n",
       " ('qty_hashtag_url', 0.0),\n",
       " ('qty_dollar_url', 0.0),\n",
       " ('qty_underline_domain', 0.0),\n",
       " ('qty_slash_domain', 0.0),\n",
       " ('qty_questionmark_domain', 0.0),\n",
       " ('qty_equal_domain', 0.0),\n",
       " ('qty_at_domain', 0.0),\n",
       " ('qty_and_domain', 0.0),\n",
       " ('qty_exclamation_domain', 0.0),\n",
       " ('qty_space_domain', 0.0),\n",
       " ('qty_tilde_domain', 0.0),\n",
       " ('qty_comma_domain', 0.0),\n",
       " ('qty_plus_domain', 0.0),\n",
       " ('qty_asterisk_domain', 0.0),\n",
       " ('qty_hashtag_domain', 0.0),\n",
       " ('qty_dollar_domain', 0.0),\n",
       " ('qty_percent_domain', 0.0),\n",
       " ('server_client_domain', 0.0),\n",
       " ('qty_questionmark_directory', 0.0),\n",
       " ('qty_equal_directory', 0.0),\n",
       " ('qty_at_directory', 0.0),\n",
       " ('qty_and_directory', 0.0),\n",
       " ('qty_exclamation_directory', 0.0),\n",
       " ('qty_space_directory', 0.0),\n",
       " ('qty_tilde_directory', 0.0),\n",
       " ('qty_comma_directory', 0.0),\n",
       " ('qty_plus_directory', 0.0),\n",
       " ('qty_asterisk_directory', 0.0),\n",
       " ('qty_hashtag_directory', 0.0),\n",
       " ('qty_dollar_directory', 0.0),\n",
       " ('qty_percent_directory', 0.0),\n",
       " ('qty_slash_file', 0.0),\n",
       " ('qty_questionmark_file', 0.0),\n",
       " ('qty_equal_file', 0.0),\n",
       " ('qty_at_file', 0.0),\n",
       " ('qty_and_file', 0.0),\n",
       " ('qty_exclamation_file', 0.0),\n",
       " ('qty_space_file', 0.0),\n",
       " ('qty_tilde_file', 0.0),\n",
       " ('qty_plus_file', 0.0),\n",
       " ('qty_asterisk_file', 0.0),\n",
       " ('qty_hashtag_file', 0.0),\n",
       " ('qty_hyphen_params', 0.0),\n",
       " ('qty_and_params', 0.0),\n",
       " ('qty_space_params', 0.0),\n",
       " ('email_in_url', 0.0),\n",
       " ('domain_google_index', 0.0)]"
      ]
     },
     "execution_count": 36,
     "metadata": {},
     "output_type": "execute_result"
    }
   ],
   "source": [
    "feature_importances = list(zip(X_train_and_valid.columns, best_clf.feature_importances_))\n",
    "feature_importances.sort(key=lambda x: x[1], reverse=True)\n",
    "\n",
    "feature_importances"
   ]
  },
  {
   "cell_type": "code",
   "execution_count": 37,
   "id": "80527003-2431-42d4-ab71-6405a32737aa",
   "metadata": {},
   "outputs": [
    {
     "data": {
      "text/plain": [
       "[('qty_dollar_file', 0.5156625779293622),\n",
       " ('time_domain_activation', 0.11714874168343789),\n",
       " ('directory_length', 0.07592130270013908)]"
      ]
     },
     "execution_count": 37,
     "metadata": {},
     "output_type": "execute_result"
    }
   ],
   "source": [
    "feature_importances[:TOP_N_FEATURES]"
   ]
  }
 ],
 "metadata": {
  "kernelspec": {
   "display_name": "Python 3 (ipykernel)",
   "language": "python",
   "name": "python3"
  },
  "language_info": {
   "codemirror_mode": {
    "name": "ipython",
    "version": 3
   },
   "file_extension": ".py",
   "mimetype": "text/x-python",
   "name": "python",
   "nbconvert_exporter": "python",
   "pygments_lexer": "ipython3",
   "version": "3.9.7"
  }
 },
 "nbformat": 4,
 "nbformat_minor": 5
}
