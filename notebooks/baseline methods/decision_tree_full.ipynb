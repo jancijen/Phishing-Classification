{
 "cells": [
  {
   "cell_type": "code",
   "execution_count": 42,
   "id": "36c6628a-7c32-4860-84de-94ee304033df",
   "metadata": {},
   "outputs": [],
   "source": [
    "import numpy as np\n",
    "import pandas as pd\n",
    "from sklearn.tree import DecisionTreeClassifier\n",
    "from sklearn.metrics import accuracy_score"
   ]
  },
  {
   "cell_type": "markdown",
   "id": "cc3e70ad-08b0-47d3-b88a-13240c87dd4a",
   "metadata": {},
   "source": [
    "## Load Data"
   ]
  },
  {
   "cell_type": "code",
   "execution_count": 43,
   "id": "a885533f-ecbc-47c8-b61d-502212d0d630",
   "metadata": {},
   "outputs": [],
   "source": [
    "DATA_DIR = '../../data/raw/full/'\n",
    "test_data = pd.read_csv(DATA_DIR + 'test.csv')\n",
    "train_data = pd.read_csv(DATA_DIR + 'train.csv')"
   ]
  },
  {
   "cell_type": "markdown",
   "id": "85ab6a49-f64a-49e8-bfd6-5ccc9e75714a",
   "metadata": {},
   "source": [
    "## Generate x and y data"
   ]
  },
  {
   "cell_type": "code",
   "execution_count": 44,
   "id": "a551d7e4-c853-4175-865d-f3f2f78ffc8a",
   "metadata": {},
   "outputs": [],
   "source": [
    "TARGET_COL_NAME = 'phishing'\n",
    "y_train = train_data[TARGET_COL_NAME]\n",
    "y_test = test_data[TARGET_COL_NAME]\n",
    "x_train = train_data.drop(TARGET_COL_NAME, axis = 1)\n",
    "x_test = test_data.drop(TARGET_COL_NAME, axis = 1)"
   ]
  },
  {
   "cell_type": "markdown",
   "id": "9113e4ba-191b-44ba-8163-a67ad66d1779",
   "metadata": {},
   "source": [
    "## Train the model using training data"
   ]
  },
  {
   "cell_type": "code",
   "execution_count": 45,
   "id": "ba53495d-2d79-4346-96fc-14c73bc9244a",
   "metadata": {},
   "outputs": [
    {
     "data": {
      "text/plain": [
       "DecisionTreeClassifier(criterion='entropy')"
      ]
     },
     "execution_count": 45,
     "metadata": {},
     "output_type": "execute_result"
    }
   ],
   "source": [
    "tree_model = DecisionTreeClassifier(criterion='entropy')\n",
    "tree_model.fit(x_train, y_train)"
   ]
  },
  {
   "cell_type": "markdown",
   "id": "ee1ac0ac-5d6b-41ce-9c37-32a4ba1151eb",
   "metadata": {},
   "source": [
    "## Save the model"
   ]
  },
  {
   "cell_type": "code",
   "execution_count": 46,
   "id": "7e61a522-da87-4aec-a0ab-a08f950b94b2",
   "metadata": {},
   "outputs": [
    {
     "data": {
      "text/plain": [
       "['../../models/decision_tree_full_model.pkl']"
      ]
     },
     "execution_count": 46,
     "metadata": {},
     "output_type": "execute_result"
    }
   ],
   "source": [
    "from joblib import dump, load\n",
    "dump(tree_model, \"../../models/decision_tree_full_model.pkl\") "
   ]
  },
  {
   "cell_type": "markdown",
   "id": "80a179c1-9ae6-41c8-83ea-d31aae4d06ed",
   "metadata": {},
   "source": [
    "## Predict test data using the model"
   ]
  },
  {
   "cell_type": "code",
   "execution_count": 47,
   "id": "e0903a28-d964-4770-8c45-89f58d41299b",
   "metadata": {},
   "outputs": [],
   "source": [
    "model_pred = tree_model.predict(x_test)"
   ]
  },
  {
   "cell_type": "markdown",
   "id": "a4ed3854-46c3-4de2-b7cf-8670c3ed87c5",
   "metadata": {},
   "source": [
    "## Accuracy_score for prediction"
   ]
  },
  {
   "cell_type": "code",
   "execution_count": 48,
   "id": "14c3ed9a-d5c6-45f0-a900-ecc7656ed041",
   "metadata": {},
   "outputs": [
    {
     "name": "stdout",
     "output_type": "stream",
     "text": [
      "0.9481669486745629\n"
     ]
    }
   ],
   "source": [
    "accuracy = accuracy_score(y_test, model_pred)\n",
    "print(accuracy)"
   ]
  },
  {
   "cell_type": "code",
   "execution_count": null,
   "id": "f2bb1995-1938-4f1b-bf52-a6994562ef8d",
   "metadata": {},
   "outputs": [],
   "source": []
  }
 ],
 "metadata": {
  "kernelspec": {
   "display_name": "Python 3",
   "language": "python",
   "name": "python3"
  },
  "language_info": {
   "codemirror_mode": {
    "name": "ipython",
    "version": 3
   },
   "file_extension": ".py",
   "mimetype": "text/x-python",
   "name": "python",
   "nbconvert_exporter": "python",
   "pygments_lexer": "ipython3",
   "version": "3.8.8"
  }
 },
 "nbformat": 4,
 "nbformat_minor": 5
}
