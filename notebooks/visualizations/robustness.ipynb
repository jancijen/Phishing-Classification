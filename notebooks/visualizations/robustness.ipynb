{
 "cells": [
  {
   "cell_type": "code",
   "execution_count": 72,
   "metadata": {},
   "outputs": [],
   "source": [
    "from joblib import load\n",
    "\n",
    "best_clf = load(\"models/decision_tree_full_model.pkl\")"
   ]
  },
  {
   "cell_type": "code",
   "execution_count": 73,
   "metadata": {},
   "outputs": [],
   "source": [
    "DATA_DIR = 'data/raw/full/'"
   ]
  },
  {
   "cell_type": "code",
   "execution_count": 74,
   "metadata": {},
   "outputs": [
    {
     "name": "stdout",
     "output_type": "stream",
     "text": [
      "<class 'pandas.core.frame.DataFrame'>\n",
      "RangeIndex: 88647 entries, 0 to 88646\n",
      "Columns: 112 entries, qty_dot_url to phishing\n",
      "dtypes: float64(1), int64(111)\n",
      "memory usage: 75.7 MB\n"
     ]
    },
    {
     "data": {
      "text/html": "<div>\n<style scoped>\n    .dataframe tbody tr th:only-of-type {\n        vertical-align: middle;\n    }\n\n    .dataframe tbody tr th {\n        vertical-align: top;\n    }\n\n    .dataframe thead th {\n        text-align: right;\n    }\n</style>\n<table border=\"1\" class=\"dataframe\">\n  <thead>\n    <tr style=\"text-align: right;\">\n      <th></th>\n      <th>qty_dot_url</th>\n      <th>qty_hyphen_url</th>\n      <th>qty_underline_url</th>\n      <th>qty_slash_url</th>\n      <th>qty_questionmark_url</th>\n      <th>qty_equal_url</th>\n      <th>qty_at_url</th>\n      <th>qty_and_url</th>\n      <th>qty_exclamation_url</th>\n      <th>qty_space_url</th>\n      <th>...</th>\n      <th>qty_ip_resolved</th>\n      <th>qty_nameservers</th>\n      <th>qty_mx_servers</th>\n      <th>ttl_hostname</th>\n      <th>tls_ssl_certificate</th>\n      <th>qty_redirects</th>\n      <th>url_google_index</th>\n      <th>domain_google_index</th>\n      <th>url_shortened</th>\n      <th>phishing</th>\n    </tr>\n  </thead>\n  <tbody>\n    <tr>\n      <th>0</th>\n      <td>3</td>\n      <td>0</td>\n      <td>0</td>\n      <td>1</td>\n      <td>0</td>\n      <td>0</td>\n      <td>0</td>\n      <td>0</td>\n      <td>0</td>\n      <td>0</td>\n      <td>...</td>\n      <td>1</td>\n      <td>2</td>\n      <td>0</td>\n      <td>892</td>\n      <td>0</td>\n      <td>0</td>\n      <td>0</td>\n      <td>0</td>\n      <td>0</td>\n      <td>1</td>\n    </tr>\n    <tr>\n      <th>1</th>\n      <td>5</td>\n      <td>0</td>\n      <td>1</td>\n      <td>3</td>\n      <td>0</td>\n      <td>3</td>\n      <td>0</td>\n      <td>2</td>\n      <td>0</td>\n      <td>0</td>\n      <td>...</td>\n      <td>1</td>\n      <td>2</td>\n      <td>1</td>\n      <td>9540</td>\n      <td>1</td>\n      <td>0</td>\n      <td>0</td>\n      <td>0</td>\n      <td>0</td>\n      <td>1</td>\n    </tr>\n    <tr>\n      <th>2</th>\n      <td>2</td>\n      <td>0</td>\n      <td>0</td>\n      <td>1</td>\n      <td>0</td>\n      <td>0</td>\n      <td>0</td>\n      <td>0</td>\n      <td>0</td>\n      <td>0</td>\n      <td>...</td>\n      <td>1</td>\n      <td>2</td>\n      <td>3</td>\n      <td>589</td>\n      <td>1</td>\n      <td>0</td>\n      <td>0</td>\n      <td>0</td>\n      <td>0</td>\n      <td>0</td>\n    </tr>\n    <tr>\n      <th>3</th>\n      <td>4</td>\n      <td>0</td>\n      <td>2</td>\n      <td>5</td>\n      <td>0</td>\n      <td>0</td>\n      <td>0</td>\n      <td>0</td>\n      <td>0</td>\n      <td>0</td>\n      <td>...</td>\n      <td>1</td>\n      <td>2</td>\n      <td>0</td>\n      <td>292</td>\n      <td>1</td>\n      <td>0</td>\n      <td>0</td>\n      <td>0</td>\n      <td>0</td>\n      <td>1</td>\n    </tr>\n    <tr>\n      <th>4</th>\n      <td>2</td>\n      <td>0</td>\n      <td>0</td>\n      <td>0</td>\n      <td>0</td>\n      <td>0</td>\n      <td>0</td>\n      <td>0</td>\n      <td>0</td>\n      <td>0</td>\n      <td>...</td>\n      <td>1</td>\n      <td>2</td>\n      <td>1</td>\n      <td>3597</td>\n      <td>0</td>\n      <td>1</td>\n      <td>0</td>\n      <td>0</td>\n      <td>0</td>\n      <td>0</td>\n    </tr>\n  </tbody>\n</table>\n<p>5 rows × 112 columns</p>\n</div>",
      "text/plain": "   qty_dot_url  qty_hyphen_url  qty_underline_url  qty_slash_url  \\\n0            3               0                  0              1   \n1            5               0                  1              3   \n2            2               0                  0              1   \n3            4               0                  2              5   \n4            2               0                  0              0   \n\n   qty_questionmark_url  qty_equal_url  qty_at_url  qty_and_url  \\\n0                     0              0           0            0   \n1                     0              3           0            2   \n2                     0              0           0            0   \n3                     0              0           0            0   \n4                     0              0           0            0   \n\n   qty_exclamation_url  qty_space_url  ...  qty_ip_resolved  qty_nameservers  \\\n0                    0              0  ...                1                2   \n1                    0              0  ...                1                2   \n2                    0              0  ...                1                2   \n3                    0              0  ...                1                2   \n4                    0              0  ...                1                2   \n\n   qty_mx_servers  ttl_hostname  tls_ssl_certificate  qty_redirects  \\\n0               0           892                    0              0   \n1               1          9540                    1              0   \n2               3           589                    1              0   \n3               0           292                    1              0   \n4               1          3597                    0              1   \n\n   url_google_index  domain_google_index  url_shortened  phishing  \n0                 0                    0              0         1  \n1                 0                    0              0         1  \n2                 0                    0              0         0  \n3                 0                    0              0         1  \n4                 0                    0              0         0  \n\n[5 rows x 112 columns]"
     },
     "execution_count": 74,
     "metadata": {},
     "output_type": "execute_result"
    }
   ],
   "source": [
    "import pandas as pd\n",
    "\n",
    "data = pd.read_csv(DATA_DIR + 'dataset_full.csv')\n",
    "\n",
    "data.info()\n",
    "data.head()"
   ]
  },
  {
   "cell_type": "code",
   "execution_count": 191,
   "metadata": {},
   "outputs": [
    {
     "name": "stdout",
     "output_type": "stream",
     "text": [
      "0        0\n",
      "1        0\n",
      "2        0\n",
      "3        0\n",
      "4       -1\n",
      "        ..\n",
      "88642   -1\n",
      "88643   -1\n",
      "88644    0\n",
      "88645    0\n",
      "88646   -1\n",
      "Name: qty_dollar_directory, Length: 88647, dtype: int64\n"
     ]
    }
   ],
   "source": [
    "print(data[\"qty_dollar_directory\"])"
   ]
  },
  {
   "cell_type": "code",
   "execution_count": 196,
   "metadata": {},
   "outputs": [
    {
     "data": {
      "text/plain": "Text(0.5, 0, 'Length of directory in URL (log scale)')"
     },
     "execution_count": 196,
     "metadata": {},
     "output_type": "execute_result"
    },
    {
     "data": {
      "image/png": "[encoded data removed]",
      "text/plain": "<Figure size 720x576 with 1 Axes>"
     },
     "metadata": {
      "needs_background": "light"
     },
     "output_type": "display_data"
    },
    {
     "data": {
      "text/plain": "<Figure size 640x480 with 0 Axes>"
     },
     "metadata": {},
     "output_type": "display_data"
    }
   ],
   "source": [
    "import seaborn as sns\n",
    "import matplotlib.pyplot as plt\n",
    "import numpy as np\n",
    "\n",
    "f, ax1 = plt.subplots()\n",
    "figure(figsize=(8, 6), dpi=80)\n",
    "\n",
    "\n",
    "# Directory Length\n",
    "sns.ecdfplot(data=data, x=\"directory_length\", hue=\"phishing\", ax=ax1)\n",
    "ax1.set_xscale(\"log\")\n",
    "\n",
    "phishing_mean = data[data[\"phishing\"] == 1].directory_length.mean()\n",
    "benign_mean = data[data[\"phishing\"] == 0].directory_length.mean()\n",
    "avg_phishing = ax1.axvline(x=phishing_mean, color='orange', linestyle='--')\n",
    "avg_benign = ax1.axvline(x=benign_mean, color='lightblue', linestyle='--')\n",
    "\n",
    "ax1.text(phishing_mean + 2, 0.025, str(round(phishing_mean, 1)), color=\"orange\", fontsize=14)\n",
    "ax1.text(benign_mean + 0.2, 0.025, str(round(benign_mean, 1)), color=\"lightblue\", fontsize=14)\n",
    "\n",
    "ax1.legend(title='Legend', labels=['Phishing cdf', 'Benign cdf', 'Phishing mean', 'Benign mean'])\n",
    "\n",
    "ax1.set_title(\"Distribution of directory length feature in phishing dataset\")\n",
    "ax1.set_xlabel(\"Length of directory in URL (log scale)\")\n"
   ]
  },
  {
   "cell_type": "code",
   "execution_count": 2,
   "metadata": {},
   "outputs": [
    {
     "ename": "NameError",
     "evalue": "name 'plt' is not defined",
     "output_type": "error",
     "traceback": [
      "\u001b[0;31m---------------------------------------------------------------------------\u001b[0m",
      "\u001b[0;31mNameError\u001b[0m                                 Traceback (most recent call last)",
      "\u001b[0;32m/var/folders/ql/6fzhs6fn5y72pl1xl7lpbhtw0000gn/T/ipykernel_84171/2859998897.py\u001b[0m in \u001b[0;36m<module>\u001b[0;34m\u001b[0m\n\u001b[1;32m      1\u001b[0m \u001b[0;32mimport\u001b[0m \u001b[0mmatplotlib\u001b[0m\u001b[0;34m.\u001b[0m\u001b[0mticker\u001b[0m \u001b[0;32mas\u001b[0m \u001b[0mmticker\u001b[0m\u001b[0;34m\u001b[0m\u001b[0;34m\u001b[0m\u001b[0m\n\u001b[1;32m      2\u001b[0m \u001b[0;34m\u001b[0m\u001b[0m\n\u001b[0;32m----> 3\u001b[0;31m \u001b[0mf\u001b[0m\u001b[0;34m,\u001b[0m \u001b[0maxs\u001b[0m \u001b[0;34m=\u001b[0m \u001b[0mplt\u001b[0m\u001b[0;34m.\u001b[0m\u001b[0msubplots\u001b[0m\u001b[0;34m(\u001b[0m\u001b[0;36m2\u001b[0m\u001b[0;34m,\u001b[0m \u001b[0;36m2\u001b[0m\u001b[0;34m,\u001b[0m \u001b[0mfigsize\u001b[0m\u001b[0;34m=\u001b[0m\u001b[0;34m(\u001b[0m\u001b[0;36m18\u001b[0m\u001b[0;34m,\u001b[0m \u001b[0;36m10\u001b[0m\u001b[0;34m)\u001b[0m\u001b[0;34m)\u001b[0m\u001b[0;34m\u001b[0m\u001b[0;34m\u001b[0m\u001b[0m\n\u001b[0m\u001b[1;32m      4\u001b[0m \u001b[0max1\u001b[0m \u001b[0;34m=\u001b[0m \u001b[0maxs\u001b[0m\u001b[0;34m[\u001b[0m\u001b[0;36m0\u001b[0m\u001b[0;34m,\u001b[0m \u001b[0;36m0\u001b[0m\u001b[0;34m]\u001b[0m\u001b[0;34m\u001b[0m\u001b[0;34m\u001b[0m\u001b[0m\n\u001b[1;32m      5\u001b[0m \u001b[0max2\u001b[0m \u001b[0;34m=\u001b[0m \u001b[0maxs\u001b[0m\u001b[0;34m[\u001b[0m\u001b[0;36m0\u001b[0m\u001b[0;34m,\u001b[0m \u001b[0;36m1\u001b[0m\u001b[0;34m]\u001b[0m\u001b[0;34m\u001b[0m\u001b[0;34m\u001b[0m\u001b[0m\n",
      "\u001b[0;31mNameError\u001b[0m: name 'plt' is not defined"
     ]
    }
   ],
   "source": [
    "\n",
    "import matplotlib.ticker as mticker\n",
    "\n",
    "f, axs = plt.subplots(2, 2, figsize=(18, 10))\n",
    "ax1 = axs[0, 0]\n",
    "ax2 = axs[0, 1]\n",
    "ax3 = axs[1, 0]\n",
    "ax4 = axs[1, 1]\n",
    "\n",
    "# Directory Length\n",
    "sns.ecdfplot(data=data, x=\"directory_length\", hue=\"phishing\", ax=ax1)\n",
    "ax1.set_xscale(\"log\")\n",
    "\n",
    "phishing_mean = data[data[\"phishing\"] == 1].directory_length.mean()\n",
    "benign_mean = data[data[\"phishing\"] == 0].directory_length.mean()\n",
    "avg_phishing = ax1.axvline(x=phishing_mean, color='orange', linestyle='--')\n",
    "avg_benign = ax1.axvline(x=benign_mean, color='lightblue', linestyle='--')\n",
    "ax1.xaxis.set_major_formatter(mticker.ScalarFormatter())\n",
    "ax1.ticklabel_format(style='plain', axis='x')\n",
    "\n",
    "ax1.legend(title='Legend', labels=['Phishing cdf', 'Benign cdf', 'Phishing mean', 'Benign mean'])\n",
    "\n",
    "ax1.set_title(\"Length of directory CDF\")\n",
    "ax1.set_xlabel(\"Length of directory (log scale)\")\n",
    "\n",
    "\n",
    "# $ in directory\n",
    "sns.ecdfplot(data=data, x=\"qty_dollar_directory\", hue=\"phishing\", ax=ax2)\n",
    "\n",
    "phishing_mean = data[data[\"phishing\"] == 1].qty_dollar_directory.mean()\n",
    "benign_mean = data[data[\"phishing\"] == 0].qty_dollar_directory.mean()\n",
    "avg_phishing = ax2.axvline(x=phishing_mean, color='orange', linestyle='--')\n",
    "avg_benign = ax2.axvline(x=benign_mean, color='lightblue', linestyle='--')\n",
    "\n",
    "ax2.legend(title='Legend', labels=['Phishing cdf', 'Benign cdf', 'Phishing mean', 'Benign mean'])\n",
    "\n",
    "ax2.set_title(\"Number of '$' in directory CDF\")\n",
    "ax2.set_xlabel(\"Number of '$'\")\n",
    "\n",
    "\n",
    "# / in directory\n",
    "sns.ecdfplot(data=data, x=\"qty_slash_directory\", hue=\"phishing\", ax=ax3)\n",
    "# ax3.set_xscale(\"log\")\n",
    "\n",
    "phishing_mean = data[data[\"phishing\"] == 1].qty_slash_directory.mean()\n",
    "benign_mean = data[data[\"phishing\"] == 0].qty_slash_directory.mean()\n",
    "avg_phishing = ax3.axvline(x=phishing_mean, color='orange', linestyle='--')\n",
    "avg_benign = ax3.axvline(x=benign_mean, color='lightblue', linestyle='--')\n",
    "\n",
    "ax3.legend(title='Legend', labels=['Phishing cdf', 'Benign cdf', 'Phishing mean', 'Benign mean'])\n",
    "\n",
    "ax3.set_title(\"Number of '/' in directory CDF\")\n",
    "ax3.set_xlabel(\"Number of '/'\")\n",
    "\n",
    "\n",
    "# _ in directory\n",
    "sns.ecdfplot(data=data, x=\"qty_underline_directory\", hue=\"phishing\", ax=ax4)\n",
    "ax4.set_xscale(\"log\")\n",
    "\n",
    "phishing_mean = data[data[\"phishing\"] == 1].qty_underline_directory.mean()\n",
    "benign_mean = data[data[\"phishing\"] == 0].qty_underline_directory.mean()\n",
    "avg_phishing = ax4.axvline(x=phishing_mean, color='orange', linestyle='--')\n",
    "avg_benign = ax4.axvline(x=benign_mean, color='lightblue', linestyle='--')\n",
    "ax4.xaxis.set_major_formatter(mticker.ScalarFormatter())\n",
    "ax4.ticklabel_format(style='plain', axis='x')\n",
    "\n",
    "ax4.legend(title='Legend', labels=['Phishing cdf', 'Benign cdf', 'Phishing mean', 'Benign mean'])\n",
    "\n",
    "ax4.set_title(\"Number of '_' in directory CDF\")\n",
    "ax4.set_xlabel(\"Number of '_' (log scale)\")\n",
    "\n",
    "f\n"
   ]
  }
 ],
 "metadata": {
  "kernelspec": {
   "display_name": "Python 3.9.7 64-bit ('Phishing-Classification': conda)",
   "name": "python397jvsc74a57bd09eeeb35fbcf63cede519bc1428ed7cf760149818474eea02ba45feef93f945c2"
  },
  "language_info": {
   "codemirror_mode": {
    "name": "ipython",
    "version": 3
   },
   "file_extension": ".py",
   "mimetype": "text/x-python",
   "name": "python",
   "nbconvert_exporter": "python",
   "pygments_lexer": "ipython3",
   "version": "3.9.7"
  },
  "metadata": {
   "interpreter": {
    "hash": "9eeeb35fbcf63cede519bc1428ed7cf760149818474eea02ba45feef93f945c2"
   }
  },
  "orig_nbformat": 2
 },
 "nbformat": 4,
 "nbformat_minor": 2
}